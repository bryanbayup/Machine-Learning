{
  "cells": [
    {
      "cell_type": "markdown",
      "metadata": {
        "id": "k6x_sGPQocpw"
      },
      "source": [
        "# Week 3 Assignment: Image Segmentation of Handwritten Digits\n",
        "\n",
        "<img src='https://storage.googleapis.com/tensorflow-3-public/assets/images/m2nist_segmentation.png' alt='m2nist digits'>\n",
        "\n",
        "In this week's assignment, you will build a model that predicts the segmentation masks (pixel-wise label map) of handwritten digits. This model will be trained on the [M2NIST dataset](https://www.kaggle.com/farhanhubble/multimnistm2nist), a multi digit MNIST. If you've done the ungraded lab on the CamVid dataset, then many of the steps here will look familiar.\n",
        "\n",
        "You will build a Convolutional Neural Network (CNN) from scratch for the downsampling path and use a Fully Convolutional Network, FCN-8, to upsample and produce the pixel-wise label map. The model will be evaluated using the intersection over union (IOU) and Dice Score. Finally, you will download the model and upload it to the grader in Coursera to get your score for the assignment."
      ]
    },
    {
      "cell_type": "code",
      "execution_count": 1,
      "metadata": {
        "colab": {
          "base_uri": "https://localhost:8080/"
        },
        "id": "lC7QkdrKVOmB",
        "outputId": "71910597-3a76-49ac-cd0c-14df7790f011"
      },
      "outputs": [
        {
          "output_type": "stream",
          "name": "stdout",
          "text": [
            "\u001b[2K   \u001b[90m━━━━━━━━━━━━━━━━━━━━━━━━━━━━━━━━━━━━━━━━\u001b[0m \u001b[32m1.7/1.7 MB\u001b[0m \u001b[31m20.3 MB/s\u001b[0m eta \u001b[36m0:00:00\u001b[0m\n",
            "\u001b[2K   \u001b[90m━━━━━━━━━━━━━━━━━━━━━━━━━━━━━━━━━━━━━━━━\u001b[0m \u001b[32m475.2/475.2 MB\u001b[0m \u001b[31m3.9 MB/s\u001b[0m eta \u001b[36m0:00:00\u001b[0m\n",
            "\u001b[2K   \u001b[90m━━━━━━━━━━━━━━━━━━━━━━━━━━━━━━━━━━━━━━━━\u001b[0m \u001b[32m1.7/1.7 MB\u001b[0m \u001b[31m74.8 MB/s\u001b[0m eta \u001b[36m0:00:00\u001b[0m\n",
            "\u001b[2K   \u001b[90m━━━━━━━━━━━━━━━━━━━━━━━━━━━━━━━━━━━━━━━━\u001b[0m \u001b[32m1.0/1.0 MB\u001b[0m \u001b[31m57.8 MB/s\u001b[0m eta \u001b[36m0:00:00\u001b[0m\n",
            "\u001b[2K   \u001b[90m━━━━━━━━━━━━━━━━━━━━━━━━━━━━━━━━━━━━━━━━\u001b[0m \u001b[32m5.5/5.5 MB\u001b[0m \u001b[31m107.2 MB/s\u001b[0m eta \u001b[36m0:00:00\u001b[0m\n",
            "\u001b[2K   \u001b[90m━━━━━━━━━━━━━━━━━━━━━━━━━━━━━━━━━━━━━━━━\u001b[0m \u001b[32m442.0/442.0 kB\u001b[0m \u001b[31m30.7 MB/s\u001b[0m eta \u001b[36m0:00:00\u001b[0m\n",
            "\u001b[2K   \u001b[90m━━━━━━━━━━━━━━━━━━━━━━━━━━━━━━━━━━━━━━━━\u001b[0m \u001b[32m77.9/77.9 kB\u001b[0m \u001b[31m7.2 MB/s\u001b[0m eta \u001b[36m0:00:00\u001b[0m\n",
            "\u001b[?25h\u001b[31mERROR: pip's dependency resolver does not currently take into account all the packages that are installed. This behaviour is the source of the following dependency conflicts.\n",
            "tensorstore 0.1.68 requires ml-dtypes>=0.3.1, but you have ml-dtypes 0.2.0 which is incompatible.\u001b[0m\u001b[31m\n",
            "\u001b[0m"
          ]
        }
      ],
      "source": [
        "# Install packages for compatibility with the Colab GPU and conversion for the autograder\n",
        "\n",
        "# NOTE: You can safely ignore errors about version incompatibility of\n",
        "# Colab-bundled packages (e.g. xarray, pydantic, etc.)\n",
        "\n",
        "!pip install tf-keras==2.15 --quiet\n",
        "!pip install tensorflow==2.15 --quiet\n",
        "!pip install keras==2.15 --quiet"
      ]
    },
    {
      "cell_type": "markdown",
      "metadata": {
        "id": "cnr0kbM0g2LD"
      },
      "source": [
        "## Exercises\n",
        "\n",
        "We've given you some boilerplate code to work with and these are the 5 exercises you need to fill out before you can successfully get the segmentation masks.\n",
        "\n",
        "* [Exercise 1 - Define the Basic Convolution Block](#exercise-1)\n",
        "* [Exercise 2 - Define the Downsampling Path](#exercise-2)\n",
        "* [Exercise 3 - Define the FCN-8 decoder](#exercise-3)\n",
        "* [Exercise 4 - Compile the Model](#exercise-4)\n",
        "* [Exercise 5 - Model Training](#exercise-5)"
      ]
    },
    {
      "cell_type": "markdown",
      "metadata": {
        "id": "MZ3g9dJxSxmN"
      },
      "source": [
        "## Imports\n",
        "\n",
        "As usual, let's start by importing the packages you will use in this lab."
      ]
    },
    {
      "cell_type": "code",
      "execution_count": 2,
      "metadata": {
        "id": "aifz2907kxYN"
      },
      "outputs": [],
      "source": [
        "import os\n",
        "import zipfile\n",
        "\n",
        "import PIL.Image, PIL.ImageFont, PIL.ImageDraw\n",
        "import numpy as np\n",
        "from matplotlib import pyplot as plt\n",
        "\n",
        "import tensorflow as tf\n",
        "import tensorflow_datasets as tfds\n",
        "from sklearn.model_selection import train_test_split\n",
        "\n",
        "# Check if you have the correct Tensorflow version\n",
        "assert tf.__version__ == '2.15.0', f'You have TF v{tf.__version__}. Please install TF and Keras v2.15, and select Runtime > Restart Session'"
      ]
    },
    {
      "cell_type": "markdown",
      "metadata": {
        "id": "7RYh6cCzXE6R"
      },
      "source": [
        "## Download the dataset"
      ]
    },
    {
      "cell_type": "markdown",
      "metadata": {
        "id": "QUGGF3wfqYni"
      },
      "source": [
        "[M2NIST](https://www.kaggle.com/farhanhubble/multimnistm2nist) is a **multi digit** [MNIST](http://yann.lecun.com/exdb/mnist/).\n",
        "Each image has up to 3 digits from MNIST digits and the corresponding labels file has the segmentation masks.\n",
        "\n",
        "The dataset is available on [Kaggle](https://www.kaggle.com) and you can find it [here](https://www.kaggle.com/farhanhubble/multimnistm2nist)\n",
        "\n",
        "To make it easier for you, we're hosting it on Google Cloud so you can download without Kaggle credentials.\n"
      ]
    },
    {
      "cell_type": "code",
      "execution_count": 3,
      "metadata": {
        "id": "ROok0i9rMcu0",
        "colab": {
          "base_uri": "https://localhost:8080/"
        },
        "outputId": "b9b80039-aa00-4cbe-fd39-56f5218f2b13"
      },
      "outputs": [
        {
          "output_type": "stream",
          "name": "stdout",
          "text": [
            "--2024-12-05 15:02:07--  https://storage.googleapis.com/tensorflow-1-public/tensorflow-3-temp/m2nist.zip\n",
            "Resolving storage.googleapis.com (storage.googleapis.com)... 74.125.137.207, 142.250.101.207, 142.251.2.207, ...\n",
            "Connecting to storage.googleapis.com (storage.googleapis.com)|74.125.137.207|:443... connected.\n",
            "HTTP request sent, awaiting response... 200 OK\n",
            "Length: 17378168 (17M) [application/zip]\n",
            "Saving to: ‘/tmp/m2nist.zip’\n",
            "\n",
            "/tmp/m2nist.zip     100%[===================>]  16.57M  --.-KB/s    in 0.07s   \n",
            "\n",
            "2024-12-05 15:02:07 (230 MB/s) - ‘/tmp/m2nist.zip’ saved [17378168/17378168]\n",
            "\n"
          ]
        }
      ],
      "source": [
        "# download zipped dataset\n",
        "!wget --no-check-certificate \\\n",
        "    https://storage.googleapis.com/tensorflow-1-public/tensorflow-3-temp/m2nist.zip \\\n",
        "    -O /tmp/m2nist.zip\n",
        "\n",
        "# find and extract to a local folder ('/tmp/training')\n",
        "local_zip = '/tmp/m2nist.zip'\n",
        "zip_ref = zipfile.ZipFile(local_zip, 'r')\n",
        "zip_ref.extractall('/tmp/training')\n",
        "zip_ref.close()"
      ]
    },
    {
      "cell_type": "markdown",
      "metadata": {
        "id": "xy17LYR7XJNa"
      },
      "source": [
        "## Load and Preprocess the Dataset"
      ]
    },
    {
      "cell_type": "markdown",
      "metadata": {
        "id": "LXGMrWnkrvpK"
      },
      "source": [
        "This dataset can be easily preprocessed since it is available as **Numpy Array Files (.npy)**\n",
        "\n",
        "1. **combined.npy** has the image files containing the multiple MNIST digits. Each image is of size **64 x 84** (height x width, in pixels).\n",
        "\n",
        "2. **segmented.npy** has the corresponding segmentation masks. Each segmentation mask is also of size **64 x 84**.\n",
        "\n",
        "This dataset has **5000** samples and you can make appropriate training, validation, and test splits as required for the problem.\n",
        "\n",
        "With that, let's define a few utility functions for loading and preprocessing the dataset."
      ]
    },
    {
      "cell_type": "code",
      "execution_count": 4,
      "metadata": {
        "id": "Jy_pw5I2-xLP"
      },
      "outputs": [],
      "source": [
        "BATCH_SIZE = 32\n",
        "\n",
        "def read_image_and_annotation(image, annotation):\n",
        "  '''\n",
        "  Casts the image and annotation to their expected data type and\n",
        "  normalizes the input image so that each pixel is in the range [-1, 1]\n",
        "\n",
        "  Args:\n",
        "    image (numpy array) -- input image\n",
        "    annotation (numpy array) -- ground truth label map\n",
        "\n",
        "  Returns:\n",
        "    preprocessed image-annotation pair\n",
        "  '''\n",
        "\n",
        "  image = tf.cast(image, dtype=tf.float32)\n",
        "  image = tf.reshape(image, (image.shape[0], image.shape[1], 1,))\n",
        "  annotation = tf.cast(annotation, dtype=tf.int32)\n",
        "  image = image / 127.5\n",
        "  image -= 1\n",
        "\n",
        "  return image, annotation\n",
        "\n",
        "\n",
        "def get_training_dataset(images, annos):\n",
        "  '''\n",
        "  Prepares shuffled batches of the training set.\n",
        "\n",
        "  Args:\n",
        "    images (list of strings) -- paths to each image file in the train set\n",
        "    annos (list of strings) -- paths to each label map in the train set\n",
        "\n",
        "  Returns:\n",
        "    tf Dataset containing the preprocessed train set\n",
        "  '''\n",
        "  training_dataset = tf.data.Dataset.from_tensor_slices((images, annos))\n",
        "  training_dataset = training_dataset.map(read_image_and_annotation)\n",
        "\n",
        "  training_dataset = training_dataset.shuffle(512, reshuffle_each_iteration=True)\n",
        "  training_dataset = training_dataset.batch(BATCH_SIZE)\n",
        "  training_dataset = training_dataset.repeat()\n",
        "  training_dataset = training_dataset.prefetch(-1)\n",
        "\n",
        "  return training_dataset\n",
        "\n",
        "\n",
        "def get_validation_dataset(images, annos):\n",
        "  '''\n",
        "  Prepares batches of the validation set.\n",
        "\n",
        "  Args:\n",
        "    images (list of strings) -- paths to each image file in the val set\n",
        "    annos (list of strings) -- paths to each label map in the val set\n",
        "\n",
        "  Returns:\n",
        "    tf Dataset containing the preprocessed validation set\n",
        "  '''\n",
        "  validation_dataset = tf.data.Dataset.from_tensor_slices((images, annos))\n",
        "  validation_dataset = validation_dataset.map(read_image_and_annotation)\n",
        "  validation_dataset = validation_dataset.batch(BATCH_SIZE)\n",
        "  validation_dataset = validation_dataset.repeat()\n",
        "\n",
        "  return validation_dataset\n",
        "\n",
        "\n",
        "def get_test_dataset(images, annos):\n",
        "  '''\n",
        "  Prepares batches of the test set.\n",
        "\n",
        "  Args:\n",
        "    images (list of strings) -- paths to each image file in the test set\n",
        "    annos (list of strings) -- paths to each label map in the test set\n",
        "\n",
        "  Returns:\n",
        "    tf Dataset containing the preprocessed validation set\n",
        "  '''\n",
        "  test_dataset = tf.data.Dataset.from_tensor_slices((images, annos))\n",
        "  test_dataset = test_dataset.map(read_image_and_annotation)\n",
        "  test_dataset = test_dataset.batch(BATCH_SIZE, drop_remainder=True)\n",
        "\n",
        "  return test_dataset\n",
        "\n",
        "\n",
        "def load_images_and_segments():\n",
        "  '''\n",
        "  Loads the images and segments as numpy arrays from npy files\n",
        "  and makes splits for training, validation and test datasets.\n",
        "\n",
        "  Returns:\n",
        "    3 tuples containing the train, val, and test splits\n",
        "  '''\n",
        "\n",
        "  #Loads images and segmentation masks.\n",
        "  images = np.load('/tmp/training/combined.npy')\n",
        "  segments = np.load('/tmp/training/segmented.npy')\n",
        "\n",
        "  #Makes training, validation, test splits from loaded images and segmentation masks.\n",
        "  train_images, val_images, train_annos, val_annos = train_test_split(images, segments, test_size=0.2, shuffle=True)\n",
        "  val_images, test_images, val_annos, test_annos = train_test_split(val_images, val_annos, test_size=0.2, shuffle=True)\n",
        "\n",
        "  return (train_images, train_annos), (val_images, val_annos), (test_images, test_annos)"
      ]
    },
    {
      "cell_type": "markdown",
      "metadata": {
        "id": "iPHO1YbTACcu"
      },
      "source": [
        "You can now load the preprocessed dataset and define the training, validation, and test sets."
      ]
    },
    {
      "cell_type": "code",
      "execution_count": 5,
      "metadata": {
        "id": "hIS70_um_Y7n"
      },
      "outputs": [],
      "source": [
        "# Load Dataset\n",
        "train_slices, val_slices, test_slices = load_images_and_segments()\n",
        "\n",
        "# Create training, validation, test datasets.\n",
        "training_dataset = get_training_dataset(train_slices[0], train_slices[1])\n",
        "validation_dataset = get_validation_dataset(val_slices[0], val_slices[1])\n",
        "test_dataset = get_test_dataset(test_slices[0], test_slices[1])"
      ]
    },
    {
      "cell_type": "markdown",
      "metadata": {
        "id": "oKXJYZi7A0dF"
      },
      "source": [
        "## Let's Take a Look at the Dataset\n",
        "\n",
        "You may want to visually inspect the dataset before and after training. Like above, we've included utility functions to help show a few images as well as their annotations (i.e. labels)."
      ]
    },
    {
      "cell_type": "code",
      "execution_count": 6,
      "metadata": {
        "cellView": "both",
        "id": "d46YCbvPafbp"
      },
      "outputs": [],
      "source": [
        "# Visualization Utilities\n",
        "\n",
        "# there are 11 classes in the dataset: one class for each digit (0 to 9) plus the background class\n",
        "n_classes = 11\n",
        "\n",
        "# assign a random color for each class\n",
        "colors = [tuple(np.random.randint(256, size=3) / 255.0) for i in range(n_classes)]\n",
        "\n",
        "def fuse_with_pil(images):\n",
        "  '''\n",
        "  Creates a blank image and pastes input images\n",
        "\n",
        "  Args:\n",
        "    images (list of numpy arrays) - numpy array representations of the images to paste\n",
        "\n",
        "  Returns:\n",
        "    PIL Image object containing the images\n",
        "  '''\n",
        "\n",
        "  widths = (image.shape[1] for image in images)\n",
        "  heights = (image.shape[0] for image in images)\n",
        "  total_width = sum(widths)\n",
        "  max_height = max(heights)\n",
        "\n",
        "  new_im = PIL.Image.new('RGB', (total_width, max_height))\n",
        "\n",
        "  x_offset = 0\n",
        "  for im in images:\n",
        "    pil_image = PIL.Image.fromarray(np.uint8(im))\n",
        "    new_im.paste(pil_image, (x_offset,0))\n",
        "    x_offset += im.shape[1]\n",
        "\n",
        "  return new_im\n",
        "\n",
        "\n",
        "def give_color_to_annotation(annotation):\n",
        "  '''\n",
        "  Converts a 2-D annotation to a numpy array with shape (height, width, 3) where\n",
        "  the third axis represents the color channel. The label values are multiplied by\n",
        "  255 and placed in this axis to give color to the annotation\n",
        "\n",
        "  Args:\n",
        "    annotation (numpy array) - label map array\n",
        "\n",
        "  Returns:\n",
        "    the annotation array with an additional color channel/axis\n",
        "  '''\n",
        "  seg_img = np.zeros( (annotation.shape[0],annotation.shape[1], 3) ).astype('float')\n",
        "\n",
        "  for c in range(n_classes):\n",
        "    segc = (annotation == c)\n",
        "    seg_img[:,:,0] += segc*( colors[c][0] * 255.0)\n",
        "    seg_img[:,:,1] += segc*( colors[c][1] * 255.0)\n",
        "    seg_img[:,:,2] += segc*( colors[c][2] * 255.0)\n",
        "\n",
        "  return seg_img\n",
        "\n",
        "\n",
        "def show_annotation_and_prediction(image, annotation, prediction, iou_list, dice_score_list):\n",
        "  '''\n",
        "  Displays the images with the ground truth and predicted label maps. Also overlays the metrics.\n",
        "\n",
        "  Args:\n",
        "    image (numpy array) -- the input image\n",
        "    annotation (numpy array) -- the ground truth label map\n",
        "    prediction (numpy array) -- the predicted label map\n",
        "    iou_list (list of floats) -- the IOU values for each class\n",
        "    dice_score_list (list of floats) -- the Dice Score for each class\n",
        "  '''\n",
        "\n",
        "  new_ann = np.argmax(annotation, axis=2)\n",
        "  true_img = give_color_to_annotation(new_ann)\n",
        "  pred_img = give_color_to_annotation(prediction)\n",
        "\n",
        "  image = image + 1\n",
        "  image = image * 127.5\n",
        "  image = np.reshape(image, (image.shape[0], image.shape[1],))\n",
        "  image = np.uint8(image)\n",
        "  images = [image, np.uint8(pred_img), np.uint8(true_img)]\n",
        "\n",
        "  metrics_by_id = [(idx, iou, dice_score) for idx, (iou, dice_score) in enumerate(zip(iou_list, dice_score_list)) if iou > 0.0 and idx < 10]\n",
        "  metrics_by_id.sort(key=lambda tup: tup[1], reverse=True)  # sorts in place\n",
        "\n",
        "  display_string_list = [\"{}: IOU: {} Dice Score: {}\".format(idx, iou, dice_score) for idx, iou, dice_score in metrics_by_id]\n",
        "  display_string = \"\\n\".join(display_string_list)\n",
        "\n",
        "  plt.figure(figsize=(15, 4))\n",
        "\n",
        "  for idx, im in enumerate(images):\n",
        "    plt.subplot(1, 3, idx+1)\n",
        "    if idx == 1:\n",
        "      plt.xlabel(display_string)\n",
        "    plt.xticks([])\n",
        "    plt.yticks([])\n",
        "    plt.imshow(im)\n",
        "\n",
        "\n",
        "def show_annotation_and_image(image, annotation):\n",
        "  '''\n",
        "  Displays the image and its annotation side by side\n",
        "\n",
        "  Args:\n",
        "    image (numpy array) -- the input image\n",
        "    annotation (numpy array) -- the label map\n",
        "  '''\n",
        "  new_ann = np.argmax(annotation, axis=2)\n",
        "  seg_img = give_color_to_annotation(new_ann)\n",
        "\n",
        "  image = image + 1\n",
        "  image = image * 127.5\n",
        "  image = np.reshape(image, (image.shape[0], image.shape[1],))\n",
        "\n",
        "  image = np.uint8(image)\n",
        "  images = [image, seg_img]\n",
        "\n",
        "  images = [image, seg_img]\n",
        "  fused_img = fuse_with_pil(images)\n",
        "  plt.imshow(fused_img)\n",
        "\n",
        "\n",
        "def list_show_annotation(dataset, num_images):\n",
        "  '''\n",
        "  Displays images and its annotations side by side\n",
        "\n",
        "  Args:\n",
        "    dataset (tf Dataset) -- batch of images and annotations\n",
        "    num_images (int) -- number of images to display\n",
        "  '''\n",
        "  ds = dataset.unbatch()\n",
        "\n",
        "  plt.figure(figsize=(20, 15))\n",
        "  plt.title(\"Images And Annotations\")\n",
        "  plt.subplots_adjust(bottom=0.1, top=0.9, hspace=0.05)\n",
        "\n",
        "  for idx, (image, annotation) in enumerate(ds.take(num_images)):\n",
        "    plt.subplot(5, 5, idx + 1)\n",
        "    plt.yticks([])\n",
        "    plt.xticks([])\n",
        "    show_annotation_and_image(image.numpy(), annotation.numpy())\n"
      ]
    },
    {
      "cell_type": "markdown",
      "metadata": {
        "id": "hEfyChmKEFKe"
      },
      "source": [
        "You can view a subset of the images from the dataset with the `list_show_annotation()` function defined above. Run the cells below to see the image on the left and its pixel-wise ground truth label map on the right."
      ]
    },
    {
      "cell_type": "code",
      "execution_count": 7,
      "metadata": {
        "id": "AFO_hIhLWYT4",
        "colab": {
          "base_uri": "https://localhost:8080/",
          "height": 626
        },
        "outputId": "89f0ba38-35c8-4be9-bb3e-36682af1bdf3"
      },
      "outputs": [
        {
          "output_type": "display_data",
          "data": {
            "text/plain": [
              "<Figure size 2000x1500 with 11 Axes>"
            ],
            "image/png": "[encoded data removed]"
          },
          "metadata": {}
        }
      ],
      "source": [
        "# get 10 images from the training set\n",
        "list_show_annotation(training_dataset, 10)"
      ]
    },
    {
      "cell_type": "code",
      "execution_count": 8,
      "metadata": {
        "id": "bdgVkp8wZua0",
        "colab": {
          "base_uri": "https://localhost:8080/",
          "height": 626
        },
        "outputId": "fb388431-4aec-40b5-e9f3-ab502969a3a0"
      },
      "outputs": [
        {
          "output_type": "display_data",
          "data": {
            "text/plain": [
              "<Figure size 2000x1500 with 11 Axes>"
            ],
            "image/png": "[encoded data removed]"
          },
          "metadata": {}
        }
      ],
      "source": [
        "# get 10 images from the validation set\n",
        "list_show_annotation(validation_dataset, 10)"
      ]
    },
    {
      "cell_type": "markdown",
      "metadata": {
        "id": "KkpgIcE2FeKI"
      },
      "source": [
        "You see from the images above the colors assigned to each class (i.e 0 to 9 plus the background). If you don't like these colors, feel free to rerun the cell where `colors` is defined to get another set of random colors. Alternatively, you can assign the RGB values for each class instead of relying on random values."
      ]
    },
    {
      "cell_type": "markdown",
      "metadata": {
        "id": "QFv2k8xabRb8"
      },
      "source": [
        "## Define the Model"
      ]
    },
    {
      "cell_type": "markdown",
      "metadata": {
        "id": "Q_ylpyqJDQiF"
      },
      "source": [
        "As discussed in the lectures, the image segmentation model will have two paths:\n",
        "\n",
        "1. **Downsampling Path** - This part of the network extracts the features in the image. This is done through a series of convolution and pooling layers. The final output is a reduced image (because of the pooling layers) with the extracted features. You will build a custom CNN from scratch for this path.\n",
        "\n",
        "2. **Upsampling Path** - This takes the output of the downsampling path and generates the predictions while also converting the image back to its original size. You will use an FCN-8 decoder for this path."
      ]
    },
    {
      "cell_type": "markdown",
      "metadata": {
        "id": "BHlBUZvsDybt"
      },
      "source": [
        "### Define the Basic Convolution Block"
      ]
    },
    {
      "cell_type": "markdown",
      "metadata": {
        "id": "T-XO9xkN1OR3"
      },
      "source": [
        "<a name='exercise-1'></a>\n",
        "\n",
        "#### **Exercise 1**\n",
        "\n",
        "Please complete the function below to build the basic convolution block for our CNN. This will have two [Conv2D](https://keras.io/api/layers/convolution_layers/convolution2d/) layers each followed by a [LeakyReLU](https://keras.io/api/layers/activation_layers/leaky_relu/), then [max pooled](https://keras.io/api/layers/pooling_layers/max_pooling2d/) and [batch-normalized](https://keras.io/api/layers/normalization_layers/batch_normalization/). Use the functional syntax to stack these layers.\n",
        "\n",
        "$$Input -> Conv2D -> LeakyReLU -> Conv2D -> LeakyReLU -> MaxPooling2D -> BatchNormalization$$\n",
        "\n",
        "When defining the Conv2D layers, note that our data inputs will have the 'channels' dimension last. You may want to check the `data_format` argument in the [docs](https://keras.io/api/layers/convolution_layers/convolution2d/) regarding this. Take note of the `padding` argument too like you did in the ungraded labs."
      ]
    },
    {
      "cell_type": "code",
      "execution_count": 13,
      "metadata": {
        "id": "azEEVytHR0Kn"
      },
      "outputs": [],
      "source": [
        "# parameter describing where the channel dimension is found in our dataset\n",
        "IMAGE_ORDERING = 'channels_last'\n",
        "\n",
        "def conv_block(input, filters, strides, pooling_size, pool_strides):\n",
        "  '''\n",
        "  Args:\n",
        "    input (tensor) -- batch of images or features\n",
        "    filters (int) -- number of filters of the Conv2D layers\n",
        "    strides (int) -- strides setting of the Conv2D layers\n",
        "    pooling_size (int) -- pooling size of the MaxPooling2D layers\n",
        "    pool_strides (int) -- strides setting of the MaxPooling2D layers\n",
        "\n",
        "  Returns:\n",
        "    (tensor) max pooled and batch-normalized features of the input\n",
        "  '''\n",
        "  ### START CODE HERE ###\n",
        "  # use the functional syntax to stack the layers as shown in the diagram above\n",
        "  x = tf.keras.layers.Conv2D(filters, strides, padding='same', data_format=IMAGE_ORDERING)(input)\n",
        "  x = tf.keras.layers.LeakyReLU()(x)\n",
        "  x = tf.keras.layers.Conv2D(filters, strides, padding='same', data_format=IMAGE_ORDERING)(x)\n",
        "  x = tf.keras.layers.LeakyReLU()(x)\n",
        "  x = tf.keras.layers.MaxPooling2D((pooling_size, pooling_size), pool_strides, data_format=IMAGE_ORDERING)(x)\n",
        "  x = tf.keras.layers.BatchNormalization()(x)\n",
        "  ### END CODE HERE ###\n",
        "\n",
        "  return x"
      ]
    },
    {
      "cell_type": "code",
      "execution_count": 14,
      "metadata": {
        "id": "uGtlHuM6KCRg",
        "colab": {
          "base_uri": "https://localhost:8080/"
        },
        "outputId": "dfab1ab4-769b-4133-bdb8-287c1ed72022"
      },
      "outputs": [
        {
          "output_type": "stream",
          "name": "stdout",
          "text": [
            "Model: \"model\"\n",
            "_________________________________________________________________\n",
            " Layer (type)                Output Shape              Param #   \n",
            "=================================================================\n",
            " input_3 (InputLayer)        [(None, 64, 84, 1)]       0         \n",
            "                                                                 \n",
            " conv2d (Conv2D)             (None, 64, 84, 32)        320       \n",
            "                                                                 \n",
            " leaky_re_lu (LeakyReLU)     (None, 64, 84, 32)        0         \n",
            "                                                                 \n",
            " conv2d_1 (Conv2D)           (None, 64, 84, 32)        9248      \n",
            "                                                                 \n",
            " leaky_re_lu_1 (LeakyReLU)   (None, 64, 84, 32)        0         \n",
            "                                                                 \n",
            " max_pooling2d (MaxPooling2  (None, 32, 42, 32)        0         \n",
            " D)                                                              \n",
            "                                                                 \n",
            " batch_normalization (Batch  (None, 32, 42, 32)        128       \n",
            " Normalization)                                                  \n",
            "                                                                 \n",
            "=================================================================\n",
            "Total params: 9696 (37.88 KB)\n",
            "Trainable params: 9632 (37.62 KB)\n",
            "Non-trainable params: 64 (256.00 Byte)\n",
            "_________________________________________________________________\n",
            "None\n"
          ]
        }
      ],
      "source": [
        "# TEST CODE:\n",
        "\n",
        "test_input = tf.keras.layers.Input(shape=(64,84, 1))\n",
        "test_output = conv_block(test_input, 32, 3, 2, 2)\n",
        "test_model = tf.keras.Model(inputs=test_input, outputs=test_output)\n",
        "\n",
        "print(test_model.summary())\n",
        "\n",
        "# free up test resources\n",
        "del test_input, test_output, test_model"
      ]
    },
    {
      "cell_type": "markdown",
      "metadata": {
        "id": "Mmf_ZaMP2rV3"
      },
      "source": [
        "**Expected Output**:\n",
        "\n",
        "Please pay attention to the *(type)* and *Output Shape* columns. The *Layer* name beside the type may be different depending on how many times you ran the cell (e.g. `input_7` can be `input_1`)\n",
        "\n",
        "```txt\n",
        "Model: \"functional_1\"\n",
        "_________________________________________________________________\n",
        "Layer (type)                 Output Shape              Param #   \n",
        "=================================================================\n",
        "input_1 (InputLayer)         [(None, 64, 84, 1)]       0         \n",
        "_________________________________________________________________\n",
        "conv2d (Conv2D)              (None, 64, 84, 32)        320       \n",
        "_________________________________________________________________\n",
        "leaky_re_lu (LeakyReLU)      (None, 64, 84, 32)        0         \n",
        "_________________________________________________________________\n",
        "conv2d_1 (Conv2D)            (None, 64, 84, 32)        9248      \n",
        "_________________________________________________________________\n",
        "leaky_re_lu_1 (LeakyReLU)    (None, 64, 84, 32)        0         \n",
        "_________________________________________________________________\n",
        "max_pooling2d (MaxPooling2D) (None, 32, 42, 32)        0         \n",
        "_________________________________________________________________\n",
        "batch_normalization (BatchNo (None, 32, 42, 32)        128       \n",
        "=================================================================\n",
        "Total params: 9,696\n",
        "Trainable params: 9,632\n",
        "Non-trainable params: 64\n",
        "_________________________________________________________________\n",
        "None\n",
        "```"
      ]
    },
    {
      "cell_type": "markdown",
      "metadata": {
        "id": "4-jJbC91EXTV"
      },
      "source": [
        "### Define the Downsampling Path"
      ]
    },
    {
      "cell_type": "markdown",
      "metadata": {
        "id": "e2ueOTmc3HxJ"
      },
      "source": [
        "<a name='exercise-2'></a>\n",
        "\n",
        "#### **Exercise 2**\n",
        "\n",
        "Now that we've defined the building block of our encoder, you can now build the downsampling path. Please complete the function below to create the encoder. This should chain together five convolution building blocks to create a feature extraction CNN minus the fully connected layers.\n",
        "\n",
        "*Notes*:\n",
        "1. To optimize processing or to make the output dimensions of each layer easier to work with, it is sometimes advisable to apply some zero-padding to the input image. With the boilerplate code we have provided below, we have padded the input width to 96 pixels using the [ZeroPadding2D layer](https://keras.io/api/layers/reshaping_layers/zero_padding2d/). This works well if you're going to use the first ungraded lab of this week as reference. This is not required however. You can remove it later and see how it will affect your parameters. For instance, you might need to pass in a non-square kernel size to the decoder in Exercise 3 (e.g. `(4,5)`) to match the output dimensions of Exercise 2.\n",
        "\n",
        "2. We recommend keeping the pool size and stride parameters constant at 2."
      ]
    },
    {
      "cell_type": "code",
      "execution_count": 15,
      "metadata": {
        "id": "F2VNB99LRwQr"
      },
      "outputs": [],
      "source": [
        "def FCN8(input_height=64, input_width=84):\n",
        "    '''\n",
        "    Defines the downsampling path of the image segmentation model.\n",
        "\n",
        "    Args:\n",
        "      input_height (int) -- height of the images\n",
        "      width (int) -- width of the images\n",
        "\n",
        "    Returns:\n",
        "    (tuple of tensors, tensor)\n",
        "      tuple of tensors -- features extracted at blocks 3 to 5\n",
        "      tensor -- copy of the input\n",
        "    '''\n",
        "\n",
        "    img_input = tf.keras.layers.Input(shape=(input_height,input_width, 1))\n",
        "\n",
        "    ### START CODE HERE ###\n",
        "\n",
        "    # pad the input image to have dimensions to the nearest power of two\n",
        "    x = tf.keras.layers.ZeroPadding2D(padding=(0, 6), data_format=IMAGE_ORDERING)(img_input)\n",
        "\n",
        "    # Block 1\n",
        "    x = conv_block(x, filters=32, strides=3, pooling_size=2, pool_strides=2)\n",
        "\n",
        "    # Block 2\n",
        "    x = conv_block(x, filters=64, strides=3, pooling_size=2, pool_strides=2)\n",
        "\n",
        "    # Block 3\n",
        "    x = conv_block(x, filters=128, strides=3, pooling_size=2, pool_strides=2)\n",
        "    # save the feature map at this stage\n",
        "    f3 = x\n",
        "\n",
        "    # Block 4\n",
        "    x = conv_block(x, filters=256, strides=3, pooling_size=2, pool_strides=2)\n",
        "    # save the feature map at this stage\n",
        "    f4 = x\n",
        "\n",
        "    # Block 5\n",
        "    x = conv_block(x, filters=256, strides=3, pooling_size=2, pool_strides=2)\n",
        "    # save the feature map at this stage\n",
        "    f5 = x\n",
        "\n",
        "    ### END CODE HERE ###\n",
        "\n",
        "    return (f3, f4, f5), img_input"
      ]
    },
    {
      "cell_type": "code",
      "execution_count": 16,
      "metadata": {
        "id": "HVQm1W0CNICS",
        "colab": {
          "base_uri": "https://localhost:8080/"
        },
        "outputId": "e2c8fd2c-4b12-462c-e170-b9073db4d092"
      },
      "outputs": [
        {
          "output_type": "stream",
          "name": "stdout",
          "text": [
            "Model: \"model_1\"\n",
            "_________________________________________________________________\n",
            " Layer (type)                Output Shape              Param #   \n",
            "=================================================================\n",
            " input_4 (InputLayer)        [(None, 64, 84, 1)]       0         \n",
            "                                                                 \n",
            " zero_padding2d (ZeroPaddin  (None, 64, 96, 1)         0         \n",
            " g2D)                                                            \n",
            "                                                                 \n",
            " conv2d_2 (Conv2D)           (None, 64, 96, 32)        320       \n",
            "                                                                 \n",
            " leaky_re_lu_2 (LeakyReLU)   (None, 64, 96, 32)        0         \n",
            "                                                                 \n",
            " conv2d_3 (Conv2D)           (None, 64, 96, 32)        9248      \n",
            "                                                                 \n",
            " leaky_re_lu_3 (LeakyReLU)   (None, 64, 96, 32)        0         \n",
            "                                                                 \n",
            " max_pooling2d_1 (MaxPoolin  (None, 32, 48, 32)        0         \n",
            " g2D)                                                            \n",
            "                                                                 \n",
            " batch_normalization_1 (Bat  (None, 32, 48, 32)        128       \n",
            " chNormalization)                                                \n",
            "                                                                 \n",
            " conv2d_4 (Conv2D)           (None, 32, 48, 64)        18496     \n",
            "                                                                 \n",
            " leaky_re_lu_4 (LeakyReLU)   (None, 32, 48, 64)        0         \n",
            "                                                                 \n",
            " conv2d_5 (Conv2D)           (None, 32, 48, 64)        36928     \n",
            "                                                                 \n",
            " leaky_re_lu_5 (LeakyReLU)   (None, 32, 48, 64)        0         \n",
            "                                                                 \n",
            " max_pooling2d_2 (MaxPoolin  (None, 16, 24, 64)        0         \n",
            " g2D)                                                            \n",
            "                                                                 \n",
            " batch_normalization_2 (Bat  (None, 16, 24, 64)        256       \n",
            " chNormalization)                                                \n",
            "                                                                 \n",
            " conv2d_6 (Conv2D)           (None, 16, 24, 128)       73856     \n",
            "                                                                 \n",
            " leaky_re_lu_6 (LeakyReLU)   (None, 16, 24, 128)       0         \n",
            "                                                                 \n",
            " conv2d_7 (Conv2D)           (None, 16, 24, 128)       147584    \n",
            "                                                                 \n",
            " leaky_re_lu_7 (LeakyReLU)   (None, 16, 24, 128)       0         \n",
            "                                                                 \n",
            " max_pooling2d_3 (MaxPoolin  (None, 8, 12, 128)        0         \n",
            " g2D)                                                            \n",
            "                                                                 \n",
            " batch_normalization_3 (Bat  (None, 8, 12, 128)        512       \n",
            " chNormalization)                                                \n",
            "                                                                 \n",
            " conv2d_8 (Conv2D)           (None, 8, 12, 256)        295168    \n",
            "                                                                 \n",
            " leaky_re_lu_8 (LeakyReLU)   (None, 8, 12, 256)        0         \n",
            "                                                                 \n",
            " conv2d_9 (Conv2D)           (None, 8, 12, 256)        590080    \n",
            "                                                                 \n",
            " leaky_re_lu_9 (LeakyReLU)   (None, 8, 12, 256)        0         \n",
            "                                                                 \n",
            " max_pooling2d_4 (MaxPoolin  (None, 4, 6, 256)         0         \n",
            " g2D)                                                            \n",
            "                                                                 \n",
            " batch_normalization_4 (Bat  (None, 4, 6, 256)         1024      \n",
            " chNormalization)                                                \n",
            "                                                                 \n",
            " conv2d_10 (Conv2D)          (None, 4, 6, 256)         590080    \n",
            "                                                                 \n",
            " leaky_re_lu_10 (LeakyReLU)  (None, 4, 6, 256)         0         \n",
            "                                                                 \n",
            " conv2d_11 (Conv2D)          (None, 4, 6, 256)         590080    \n",
            "                                                                 \n",
            " leaky_re_lu_11 (LeakyReLU)  (None, 4, 6, 256)         0         \n",
            "                                                                 \n",
            " max_pooling2d_5 (MaxPoolin  (None, 2, 3, 256)         0         \n",
            " g2D)                                                            \n",
            "                                                                 \n",
            " batch_normalization_5 (Bat  (None, 2, 3, 256)         1024      \n",
            " chNormalization)                                                \n",
            "                                                                 \n",
            "=================================================================\n",
            "Total params: 2354784 (8.98 MB)\n",
            "Trainable params: 2353312 (8.98 MB)\n",
            "Non-trainable params: 1472 (5.75 KB)\n",
            "_________________________________________________________________\n",
            "None\n"
          ]
        }
      ],
      "source": [
        "# TEST CODE:\n",
        "\n",
        "test_convs, test_img_input = FCN8()\n",
        "test_model = tf.keras.Model(inputs=test_img_input, outputs=[test_convs, test_img_input])\n",
        "\n",
        "print(test_model.summary())\n",
        "\n",
        "del test_convs, test_img_input, test_model"
      ]
    },
    {
      "cell_type": "markdown",
      "metadata": {
        "id": "sxklZe_D3jOI"
      },
      "source": [
        "**Expected Output**:\n",
        "\n",
        "You should see the layers of your `conv_block()` being repeated 5 times like the output below.\n",
        "\n",
        "```txt\n",
        "Model: \"functional_3\"\n",
        "_________________________________________________________________\n",
        "Layer (type)                 Output Shape              Param #   \n",
        "=================================================================\n",
        "input_3 (InputLayer)         [(None, 64, 84, 1)]       0         \n",
        "_________________________________________________________________\n",
        "zero_padding2d (ZeroPadding2 (None, 64, 96, 1)         0         \n",
        "_________________________________________________________________\n",
        "conv2d_2 (Conv2D)            (None, 64, 96, 32)        320       \n",
        "_________________________________________________________________\n",
        "leaky_re_lu_2 (LeakyReLU)    (None, 64, 96, 32)        0         \n",
        "_________________________________________________________________\n",
        "conv2d_3 (Conv2D)            (None, 64, 96, 32)        9248      \n",
        "_________________________________________________________________\n",
        "leaky_re_lu_3 (LeakyReLU)    (None, 64, 96, 32)        0         \n",
        "_________________________________________________________________\n",
        "max_pooling2d_1 (MaxPooling2 (None, 32, 48, 32)        0         \n",
        "_________________________________________________________________\n",
        "batch_normalization_1 (Batch (None, 32, 48, 32)        128       \n",
        "_________________________________________________________________\n",
        "conv2d_4 (Conv2D)            (None, 32, 48, 64)        18496     \n",
        "_________________________________________________________________\n",
        "leaky_re_lu_4 (LeakyReLU)    (None, 32, 48, 64)        0         \n",
        "_________________________________________________________________\n",
        "conv2d_5 (Conv2D)            (None, 32, 48, 64)        36928     \n",
        "_________________________________________________________________\n",
        "leaky_re_lu_5 (LeakyReLU)    (None, 32, 48, 64)        0         \n",
        "_________________________________________________________________\n",
        "max_pooling2d_2 (MaxPooling2 (None, 16, 24, 64)        0         \n",
        "_________________________________________________________________\n",
        "batch_normalization_2 (Batch (None, 16, 24, 64)        256       \n",
        "_________________________________________________________________\n",
        "conv2d_6 (Conv2D)            (None, 16, 24, 128)       73856     \n",
        "_________________________________________________________________\n",
        "leaky_re_lu_6 (LeakyReLU)    (None, 16, 24, 128)       0         \n",
        "_________________________________________________________________\n",
        "conv2d_7 (Conv2D)            (None, 16, 24, 128)       147584    \n",
        "_________________________________________________________________\n",
        "leaky_re_lu_7 (LeakyReLU)    (None, 16, 24, 128)       0         \n",
        "_________________________________________________________________\n",
        "max_pooling2d_3 (MaxPooling2 (None, 8, 12, 128)        0         \n",
        "_________________________________________________________________\n",
        "batch_normalization_3 (Batch (None, 8, 12, 128)        512       \n",
        "_________________________________________________________________\n",
        "conv2d_8 (Conv2D)            (None, 8, 12, 256)        295168    \n",
        "_________________________________________________________________\n",
        "leaky_re_lu_8 (LeakyReLU)    (None, 8, 12, 256)        0         \n",
        "_________________________________________________________________\n",
        "conv2d_9 (Conv2D)            (None, 8, 12, 256)        590080    \n",
        "_________________________________________________________________\n",
        "leaky_re_lu_9 (LeakyReLU)    (None, 8, 12, 256)        0         \n",
        "_________________________________________________________________\n",
        "max_pooling2d_4 (MaxPooling2 (None, 4, 6, 256)         0         \n",
        "_________________________________________________________________\n",
        "batch_normalization_4 (Batch (None, 4, 6, 256)         1024      \n",
        "_________________________________________________________________\n",
        "conv2d_10 (Conv2D)           (None, 4, 6, 256)         590080    \n",
        "_________________________________________________________________\n",
        "leaky_re_lu_10 (LeakyReLU)   (None, 4, 6, 256)         0         \n",
        "_________________________________________________________________\n",
        "conv2d_11 (Conv2D)           (None, 4, 6, 256)         590080    \n",
        "_________________________________________________________________\n",
        "leaky_re_lu_11 (LeakyReLU)   (None, 4, 6, 256)         0         \n",
        "_________________________________________________________________\n",
        "max_pooling2d_5 (MaxPooling2 (None, 2, 3, 256)         0         \n",
        "_________________________________________________________________\n",
        "batch_normalization_5 (Batch (None, 2, 3, 256)         1024      \n",
        "=================================================================\n",
        "Total params: 2,354,784\n",
        "Trainable params: 2,353,312\n",
        "Non-trainable params: 1,472\n",
        "_________________________________________________________________\n",
        "None\n",
        "```"
      ]
    },
    {
      "cell_type": "markdown",
      "metadata": {
        "id": "LbjYEQU8Eq-T"
      },
      "source": [
        "### Define the FCN-8 decoder"
      ]
    },
    {
      "cell_type": "markdown",
      "metadata": {
        "id": "Ux5nAU155E5O"
      },
      "source": [
        "<a name='exercise-3'></a>\n",
        "\n",
        "#### **Exercise 3**\n",
        "\n",
        "Now you can define the upsampling path taking the outputs of convolutions at each stage as arguments. This will be very similar to what you did in the ungraded lab (VGG16-FCN8-CamVid) so you can refer to it if you need a refresher.\n",
        "* Note: remember to set the `data_format` parameter for the Conv2D layers.\n",
        "\n",
        "Here is also the diagram you saw in class on how it should work:\n",
        "\n",
        "<img src='https://drive.google.com/uc?export=view&id=1lrqB4YegV8jXWNfyYAaeuFlwXIc54aRP' alt='fcn-8'>"
      ]
    },
    {
      "cell_type": "code",
      "execution_count": 17,
      "metadata": {
        "id": "giYEct_Se5Xj"
      },
      "outputs": [],
      "source": [
        "def fcn8_decoder(convs, n_classes):\n",
        "  # features from the encoder stage\n",
        "  f3, f4, f5 = convs\n",
        "\n",
        "  # number of filters\n",
        "  n = 512\n",
        "\n",
        "  # add convolutional layers on top of the CNN extractor.\n",
        "  o = tf.keras.layers.Conv2D(n , (7 , 7) , activation='relu' , padding='same', name=\"conv6\", data_format=IMAGE_ORDERING)(f5)\n",
        "  o = tf.keras.layers.Dropout(0.5)(o)\n",
        "\n",
        "  o = tf.keras.layers.Conv2D(n , (1 , 1) , activation='relu' , padding='same', name=\"conv7\", data_format=IMAGE_ORDERING)(o)\n",
        "  o = tf.keras.layers.Dropout(0.5)(o)\n",
        "\n",
        "  o = tf.keras.layers.Conv2D(n_classes,  (1, 1), activation='relu' , padding='same', data_format=IMAGE_ORDERING)(o)\n",
        "\n",
        "\n",
        "  ### START CODE HERE ###\n",
        "\n",
        "  # Upsample `o` above and crop any extra pixels introduced\n",
        "  o = tf.keras.layers.Conv2DTranspose(n_classes, kernel_size=(4, 4), strides=(2, 2), data_format=IMAGE_ORDERING, use_bias=False)(o)\n",
        "  o = tf.keras.layers.Cropping2D(cropping=(1, 1))(o)\n",
        "\n",
        "  # load the pool 4 prediction and do a 1x1 convolution to reshape it to the same shape of `o` above\n",
        "  o2 = f4\n",
        "  o2 = tf.keras.layers.Conv2D(n_classes, kernel_size=(1, 1), activation='relu', padding='same', data_format=IMAGE_ORDERING)(o2)\n",
        "\n",
        "  # add the results of the upsampling and pool 4 prediction\n",
        "  o = tf.keras.layers.Add()([o, o2])\n",
        "\n",
        "  # upsample the resulting tensor of the operation you just did\n",
        "  o = tf.keras.layers.Conv2DTranspose(n_classes, kernel_size=(4, 4), strides=(2, 2), data_format=IMAGE_ORDERING, use_bias=False)(o)\n",
        "  o = tf.keras.layers.Cropping2D(cropping=(1, 1))(o)\n",
        "\n",
        "  # load the pool 3 prediction and do a 1x1 convolution to reshape it to the same shape of `o` above\n",
        "  o2 = f3\n",
        "  o2 = tf.keras.layers.Conv2D(n_classes , kernel_size=(1, 1) , activation='relu' , padding='same', data_format=IMAGE_ORDERING)(o2)\n",
        "\n",
        "  # add the results of the upsampling and pool 3 prediction\n",
        "  o = tf.keras.layers.Add()([o, o2])\n",
        "\n",
        "  # upsample up to the size of the original image\n",
        "  o = tf.keras.layers.Conv2DTranspose(n_classes, kernel_size=(8, 8), strides=(8, 8), data_format=IMAGE_ORDERING, use_bias=False)(o)\n",
        "  o = tf.keras.layers.Cropping2D(((0, 0), (0, 96-84)))(o)\n",
        "\n",
        "  # append a sigmoid activation\n",
        "  o = (tf.keras.layers.Activation('sigmoid'))(o)\n",
        "  ### END CODE HERE ###\n",
        "\n",
        "  return o"
      ]
    },
    {
      "cell_type": "code",
      "execution_count": 18,
      "metadata": {
        "id": "lQHioDlR5K1_",
        "colab": {
          "base_uri": "https://localhost:8080/"
        },
        "outputId": "7d611b65-7f9d-4078-b822-3b281fa5438d"
      },
      "outputs": [
        {
          "output_type": "stream",
          "name": "stdout",
          "text": [
            "(None, 64, 84, 11)\n"
          ]
        }
      ],
      "source": [
        "# TEST CODE\n",
        "\n",
        "test_convs, test_img_input = FCN8()\n",
        "test_fcn8_decoder = fcn8_decoder(test_convs, 11)\n",
        "\n",
        "print(test_fcn8_decoder.shape)\n",
        "\n",
        "del test_convs, test_img_input, test_fcn8_decoder"
      ]
    },
    {
      "cell_type": "markdown",
      "metadata": {
        "id": "C1qTwTX-5fwH"
      },
      "source": [
        "**Expected Output:**\n",
        "\n",
        "```txt\n",
        "(None, 64, 84, 11)\n",
        "```"
      ]
    },
    {
      "cell_type": "markdown",
      "metadata": {
        "id": "cJOhQz86Qk6n"
      },
      "source": [
        "### Define the Complete Model\n",
        "\n",
        "The downsampling and upsampling paths can now be combined as shown below."
      ]
    },
    {
      "cell_type": "code",
      "execution_count": 19,
      "metadata": {
        "id": "9EJEf484312h"
      },
      "outputs": [],
      "source": [
        "# start the encoder using the default input size 64 x 84\n",
        "convs, img_input = FCN8()\n",
        "\n",
        "# pass the convolutions obtained in the encoder to the decoder\n",
        "dec_op = fcn8_decoder(convs, n_classes)\n",
        "\n",
        "# define the model specifying the input (batch of images) and output (decoder output)\n",
        "model = tf.keras.Model(inputs = img_input, outputs = dec_op)"
      ]
    },
    {
      "cell_type": "code",
      "execution_count": 20,
      "metadata": {
        "id": "2GAenp1M4gXx",
        "colab": {
          "base_uri": "https://localhost:8080/"
        },
        "outputId": "0b551115-5350-46fe-b822-ec543ba7bbd3"
      },
      "outputs": [
        {
          "output_type": "stream",
          "name": "stdout",
          "text": [
            "Model: \"model_2\"\n",
            "__________________________________________________________________________________________________\n",
            " Layer (type)                Output Shape                 Param #   Connected to                  \n",
            "==================================================================================================\n",
            " input_6 (InputLayer)        [(None, 64, 84, 1)]          0         []                            \n",
            "                                                                                                  \n",
            " zero_padding2d_2 (ZeroPadd  (None, 64, 96, 1)            0         ['input_6[0][0]']             \n",
            " ing2D)                                                                                           \n",
            "                                                                                                  \n",
            " conv2d_25 (Conv2D)          (None, 64, 96, 32)           320       ['zero_padding2d_2[0][0]']    \n",
            "                                                                                                  \n",
            " leaky_re_lu_22 (LeakyReLU)  (None, 64, 96, 32)           0         ['conv2d_25[0][0]']           \n",
            "                                                                                                  \n",
            " conv2d_26 (Conv2D)          (None, 64, 96, 32)           9248      ['leaky_re_lu_22[0][0]']      \n",
            "                                                                                                  \n",
            " leaky_re_lu_23 (LeakyReLU)  (None, 64, 96, 32)           0         ['conv2d_26[0][0]']           \n",
            "                                                                                                  \n",
            " max_pooling2d_11 (MaxPooli  (None, 32, 48, 32)           0         ['leaky_re_lu_23[0][0]']      \n",
            " ng2D)                                                                                            \n",
            "                                                                                                  \n",
            " batch_normalization_11 (Ba  (None, 32, 48, 32)           128       ['max_pooling2d_11[0][0]']    \n",
            " tchNormalization)                                                                                \n",
            "                                                                                                  \n",
            " conv2d_27 (Conv2D)          (None, 32, 48, 64)           18496     ['batch_normalization_11[0][0]\n",
            "                                                                    ']                            \n",
            "                                                                                                  \n",
            " leaky_re_lu_24 (LeakyReLU)  (None, 32, 48, 64)           0         ['conv2d_27[0][0]']           \n",
            "                                                                                                  \n",
            " conv2d_28 (Conv2D)          (None, 32, 48, 64)           36928     ['leaky_re_lu_24[0][0]']      \n",
            "                                                                                                  \n",
            " leaky_re_lu_25 (LeakyReLU)  (None, 32, 48, 64)           0         ['conv2d_28[0][0]']           \n",
            "                                                                                                  \n",
            " max_pooling2d_12 (MaxPooli  (None, 16, 24, 64)           0         ['leaky_re_lu_25[0][0]']      \n",
            " ng2D)                                                                                            \n",
            "                                                                                                  \n",
            " batch_normalization_12 (Ba  (None, 16, 24, 64)           256       ['max_pooling2d_12[0][0]']    \n",
            " tchNormalization)                                                                                \n",
            "                                                                                                  \n",
            " conv2d_29 (Conv2D)          (None, 16, 24, 128)          73856     ['batch_normalization_12[0][0]\n",
            "                                                                    ']                            \n",
            "                                                                                                  \n",
            " leaky_re_lu_26 (LeakyReLU)  (None, 16, 24, 128)          0         ['conv2d_29[0][0]']           \n",
            "                                                                                                  \n",
            " conv2d_30 (Conv2D)          (None, 16, 24, 128)          147584    ['leaky_re_lu_26[0][0]']      \n",
            "                                                                                                  \n",
            " leaky_re_lu_27 (LeakyReLU)  (None, 16, 24, 128)          0         ['conv2d_30[0][0]']           \n",
            "                                                                                                  \n",
            " max_pooling2d_13 (MaxPooli  (None, 8, 12, 128)           0         ['leaky_re_lu_27[0][0]']      \n",
            " ng2D)                                                                                            \n",
            "                                                                                                  \n",
            " batch_normalization_13 (Ba  (None, 8, 12, 128)           512       ['max_pooling2d_13[0][0]']    \n",
            " tchNormalization)                                                                                \n",
            "                                                                                                  \n",
            " conv2d_31 (Conv2D)          (None, 8, 12, 256)           295168    ['batch_normalization_13[0][0]\n",
            "                                                                    ']                            \n",
            "                                                                                                  \n",
            " leaky_re_lu_28 (LeakyReLU)  (None, 8, 12, 256)           0         ['conv2d_31[0][0]']           \n",
            "                                                                                                  \n",
            " conv2d_32 (Conv2D)          (None, 8, 12, 256)           590080    ['leaky_re_lu_28[0][0]']      \n",
            "                                                                                                  \n",
            " leaky_re_lu_29 (LeakyReLU)  (None, 8, 12, 256)           0         ['conv2d_32[0][0]']           \n",
            "                                                                                                  \n",
            " max_pooling2d_14 (MaxPooli  (None, 4, 6, 256)            0         ['leaky_re_lu_29[0][0]']      \n",
            " ng2D)                                                                                            \n",
            "                                                                                                  \n",
            " batch_normalization_14 (Ba  (None, 4, 6, 256)            1024      ['max_pooling2d_14[0][0]']    \n",
            " tchNormalization)                                                                                \n",
            "                                                                                                  \n",
            " conv2d_33 (Conv2D)          (None, 4, 6, 256)            590080    ['batch_normalization_14[0][0]\n",
            "                                                                    ']                            \n",
            "                                                                                                  \n",
            " leaky_re_lu_30 (LeakyReLU)  (None, 4, 6, 256)            0         ['conv2d_33[0][0]']           \n",
            "                                                                                                  \n",
            " conv2d_34 (Conv2D)          (None, 4, 6, 256)            590080    ['leaky_re_lu_30[0][0]']      \n",
            "                                                                                                  \n",
            " leaky_re_lu_31 (LeakyReLU)  (None, 4, 6, 256)            0         ['conv2d_34[0][0]']           \n",
            "                                                                                                  \n",
            " max_pooling2d_15 (MaxPooli  (None, 2, 3, 256)            0         ['leaky_re_lu_31[0][0]']      \n",
            " ng2D)                                                                                            \n",
            "                                                                                                  \n",
            " batch_normalization_15 (Ba  (None, 2, 3, 256)            1024      ['max_pooling2d_15[0][0]']    \n",
            " tchNormalization)                                                                                \n",
            "                                                                                                  \n",
            " conv6 (Conv2D)              (None, 2, 3, 512)            6423040   ['batch_normalization_15[0][0]\n",
            "                                                                    ']                            \n",
            "                                                                                                  \n",
            " dropout_2 (Dropout)         (None, 2, 3, 512)            0         ['conv6[0][0]']               \n",
            "                                                                                                  \n",
            " conv7 (Conv2D)              (None, 2, 3, 512)            262656    ['dropout_2[0][0]']           \n",
            "                                                                                                  \n",
            " dropout_3 (Dropout)         (None, 2, 3, 512)            0         ['conv7[0][0]']               \n",
            "                                                                                                  \n",
            " conv2d_35 (Conv2D)          (None, 2, 3, 11)             5643      ['dropout_3[0][0]']           \n",
            "                                                                                                  \n",
            " conv2d_transpose_3 (Conv2D  (None, 6, 8, 11)             1936      ['conv2d_35[0][0]']           \n",
            " Transpose)                                                                                       \n",
            "                                                                                                  \n",
            " cropping2d_3 (Cropping2D)   (None, 4, 6, 11)             0         ['conv2d_transpose_3[0][0]']  \n",
            "                                                                                                  \n",
            " conv2d_36 (Conv2D)          (None, 4, 6, 11)             2827      ['batch_normalization_14[0][0]\n",
            "                                                                    ']                            \n",
            "                                                                                                  \n",
            " add_2 (Add)                 (None, 4, 6, 11)             0         ['cropping2d_3[0][0]',        \n",
            "                                                                     'conv2d_36[0][0]']           \n",
            "                                                                                                  \n",
            " conv2d_transpose_4 (Conv2D  (None, 10, 14, 11)           1936      ['add_2[0][0]']               \n",
            " Transpose)                                                                                       \n",
            "                                                                                                  \n",
            " cropping2d_4 (Cropping2D)   (None, 8, 12, 11)            0         ['conv2d_transpose_4[0][0]']  \n",
            "                                                                                                  \n",
            " conv2d_37 (Conv2D)          (None, 8, 12, 11)            1419      ['batch_normalization_13[0][0]\n",
            "                                                                    ']                            \n",
            "                                                                                                  \n",
            " add_3 (Add)                 (None, 8, 12, 11)            0         ['cropping2d_4[0][0]',        \n",
            "                                                                     'conv2d_37[0][0]']           \n",
            "                                                                                                  \n",
            " conv2d_transpose_5 (Conv2D  (None, 64, 96, 11)           7744      ['add_3[0][0]']               \n",
            " Transpose)                                                                                       \n",
            "                                                                                                  \n",
            " cropping2d_5 (Cropping2D)   (None, 64, 84, 11)           0         ['conv2d_transpose_5[0][0]']  \n",
            "                                                                                                  \n",
            " activation_1 (Activation)   (None, 64, 84, 11)           0         ['cropping2d_5[0][0]']        \n",
            "                                                                                                  \n",
            "==================================================================================================\n",
            "Total params: 9061985 (34.57 MB)\n",
            "Trainable params: 9060513 (34.56 MB)\n",
            "Non-trainable params: 1472 (5.75 KB)\n",
            "__________________________________________________________________________________________________\n"
          ]
        }
      ],
      "source": [
        "model.summary()"
      ]
    },
    {
      "cell_type": "markdown",
      "metadata": {
        "id": "wAAXygZtbZmu"
      },
      "source": [
        "## Compile the Model"
      ]
    },
    {
      "cell_type": "markdown",
      "metadata": {
        "id": "sC-9m1R_5tjV"
      },
      "source": [
        "<a name='exercise-4'></a>\n",
        "\n",
        "### **Exercise 4**\n",
        "\n",
        "Compile the model using an appropriate loss, optimizer, and metric."
      ]
    },
    {
      "cell_type": "code",
      "execution_count": 21,
      "metadata": {
        "id": "ZpWpp8h4g_rE"
      },
      "outputs": [],
      "source": [
        "### START CODE HERE ###\n",
        "model.compile(loss='categorical_crossentropy', optimizer=tf.keras.optimizers.Adam(), metrics=['accuracy'])\n",
        "### END CODE HERE ###"
      ]
    },
    {
      "cell_type": "markdown",
      "metadata": {
        "id": "510v0aVDXv1f"
      },
      "source": [
        "## Model Training"
      ]
    },
    {
      "cell_type": "markdown",
      "metadata": {
        "id": "1udK8qps6PcG"
      },
      "source": [
        "<a name='exercise-5'></a>\n",
        "\n",
        "### **Exercise 5**\n",
        "\n",
        "You can now train the model. Set the number of epochs and observe the metrics returned at each iteration. You can also terminate the cell execution if you think your model is performing well already."
      ]
    },
    {
      "cell_type": "code",
      "execution_count": 22,
      "metadata": {
        "id": "8HoZwpGWhMB-",
        "colab": {
          "base_uri": "https://localhost:8080/"
        },
        "outputId": "6eb53991-6309-4846-c207-61c63b9805be"
      },
      "outputs": [
        {
          "output_type": "stream",
          "name": "stdout",
          "text": [
            "Epoch 1/70\n",
            "125/125 [==============================] - 21s 56ms/step - loss: 0.5087 - accuracy: 0.8547 - val_loss: 0.2600 - val_accuracy: 0.9427\n",
            "Epoch 2/70\n",
            "125/125 [==============================] - 7s 52ms/step - loss: 0.2172 - accuracy: 0.9426 - val_loss: 0.3018 - val_accuracy: 0.9427\n",
            "Epoch 3/70\n",
            "125/125 [==============================] - 6s 49ms/step - loss: 0.1790 - accuracy: 0.9448 - val_loss: 0.2762 - val_accuracy: 0.9428\n",
            "Epoch 4/70\n",
            "125/125 [==============================] - 7s 53ms/step - loss: 0.1319 - accuracy: 0.9526 - val_loss: 0.1687 - val_accuracy: 0.9457\n",
            "Epoch 5/70\n",
            "125/125 [==============================] - 6s 51ms/step - loss: 0.1040 - accuracy: 0.9612 - val_loss: 0.1327 - val_accuracy: 0.9533\n",
            "Epoch 6/70\n",
            "125/125 [==============================] - 6s 49ms/step - loss: 0.0853 - accuracy: 0.9681 - val_loss: 0.0923 - val_accuracy: 0.9659\n",
            "Epoch 7/70\n",
            "125/125 [==============================] - 6s 48ms/step - loss: 0.0701 - accuracy: 0.9733 - val_loss: 0.0746 - val_accuracy: 0.9714\n",
            "Epoch 8/70\n",
            "125/125 [==============================] - 7s 52ms/step - loss: 0.0600 - accuracy: 0.9764 - val_loss: 0.0620 - val_accuracy: 0.9761\n",
            "Epoch 9/70\n",
            "125/125 [==============================] - 6s 47ms/step - loss: 0.0533 - accuracy: 0.9787 - val_loss: 0.0561 - val_accuracy: 0.9778\n",
            "Epoch 10/70\n",
            "125/125 [==============================] - 6s 50ms/step - loss: 0.0486 - accuracy: 0.9804 - val_loss: 0.0549 - val_accuracy: 0.9787\n",
            "Epoch 11/70\n",
            "125/125 [==============================] - 6s 47ms/step - loss: 0.0447 - accuracy: 0.9820 - val_loss: 0.0520 - val_accuracy: 0.9799\n",
            "Epoch 12/70\n",
            "125/125 [==============================] - 7s 53ms/step - loss: 0.0408 - accuracy: 0.9835 - val_loss: 0.0514 - val_accuracy: 0.9802\n",
            "Epoch 13/70\n",
            "125/125 [==============================] - 7s 53ms/step - loss: 0.0387 - accuracy: 0.9844 - val_loss: 0.0434 - val_accuracy: 0.9829\n",
            "Epoch 14/70\n",
            "125/125 [==============================] - 6s 50ms/step - loss: 0.0357 - accuracy: 0.9857 - val_loss: 0.0458 - val_accuracy: 0.9824\n",
            "Epoch 15/70\n",
            "125/125 [==============================] - 6s 49ms/step - loss: 0.0333 - accuracy: 0.9866 - val_loss: 0.0436 - val_accuracy: 0.9833\n",
            "Epoch 16/70\n",
            "125/125 [==============================] - 6s 51ms/step - loss: 0.0320 - accuracy: 0.9872 - val_loss: 0.0391 - val_accuracy: 0.9851\n",
            "Epoch 17/70\n",
            "125/125 [==============================] - 6s 52ms/step - loss: 0.0299 - accuracy: 0.9880 - val_loss: 0.0388 - val_accuracy: 0.9851\n",
            "Epoch 18/70\n",
            "125/125 [==============================] - 6s 50ms/step - loss: 0.0287 - accuracy: 0.9885 - val_loss: 0.0367 - val_accuracy: 0.9862\n",
            "Epoch 19/70\n",
            "125/125 [==============================] - 6s 48ms/step - loss: 0.0275 - accuracy: 0.9890 - val_loss: 0.0346 - val_accuracy: 0.9868\n",
            "Epoch 20/70\n",
            "125/125 [==============================] - 6s 50ms/step - loss: 0.0259 - accuracy: 0.9897 - val_loss: 0.0426 - val_accuracy: 0.9845\n",
            "Epoch 21/70\n",
            "125/125 [==============================] - 6s 50ms/step - loss: 0.0255 - accuracy: 0.9898 - val_loss: 0.0341 - val_accuracy: 0.9869\n",
            "Epoch 22/70\n",
            "125/125 [==============================] - 7s 54ms/step - loss: 0.0245 - accuracy: 0.9902 - val_loss: 0.0366 - val_accuracy: 0.9860\n",
            "Epoch 23/70\n",
            "125/125 [==============================] - 6s 50ms/step - loss: 0.0237 - accuracy: 0.9905 - val_loss: 0.0327 - val_accuracy: 0.9874\n",
            "Epoch 24/70\n",
            "125/125 [==============================] - 6s 50ms/step - loss: 0.0231 - accuracy: 0.9908 - val_loss: 0.0343 - val_accuracy: 0.9870\n",
            "Epoch 25/70\n",
            "125/125 [==============================] - 6s 50ms/step - loss: 0.0228 - accuracy: 0.9909 - val_loss: 0.0441 - val_accuracy: 0.9836\n",
            "Epoch 26/70\n",
            "125/125 [==============================] - 6s 50ms/step - loss: 0.0225 - accuracy: 0.9910 - val_loss: 0.0514 - val_accuracy: 0.9824\n",
            "Epoch 27/70\n",
            "125/125 [==============================] - 6s 48ms/step - loss: 0.0306 - accuracy: 0.9882 - val_loss: 0.0412 - val_accuracy: 0.9855\n",
            "Epoch 28/70\n",
            "125/125 [==============================] - 6s 50ms/step - loss: 0.0240 - accuracy: 0.9905 - val_loss: 0.0335 - val_accuracy: 0.9873\n",
            "Epoch 29/70\n",
            "125/125 [==============================] - 6s 48ms/step - loss: 0.0211 - accuracy: 0.9916 - val_loss: 0.0290 - val_accuracy: 0.9891\n",
            "Epoch 30/70\n",
            "125/125 [==============================] - 6s 51ms/step - loss: 0.0202 - accuracy: 0.9920 - val_loss: 0.0286 - val_accuracy: 0.9892\n",
            "Epoch 31/70\n",
            "125/125 [==============================] - 6s 50ms/step - loss: 0.0196 - accuracy: 0.9922 - val_loss: 0.0273 - val_accuracy: 0.9896\n",
            "Epoch 32/70\n",
            "125/125 [==============================] - 6s 50ms/step - loss: 0.0194 - accuracy: 0.9923 - val_loss: 0.0275 - val_accuracy: 0.9896\n",
            "Epoch 33/70\n",
            "125/125 [==============================] - 6s 48ms/step - loss: 0.0189 - accuracy: 0.9925 - val_loss: 0.0317 - val_accuracy: 0.9886\n",
            "Epoch 34/70\n",
            "125/125 [==============================] - 7s 53ms/step - loss: 0.0188 - accuracy: 0.9925 - val_loss: 0.0274 - val_accuracy: 0.9899\n",
            "Epoch 35/70\n",
            "125/125 [==============================] - 6s 48ms/step - loss: 0.0183 - accuracy: 0.9927 - val_loss: 0.0368 - val_accuracy: 0.9875\n",
            "Epoch 36/70\n",
            "125/125 [==============================] - 7s 53ms/step - loss: 0.0180 - accuracy: 0.9928 - val_loss: 0.0295 - val_accuracy: 0.9894\n",
            "Epoch 37/70\n",
            "125/125 [==============================] - 6s 50ms/step - loss: 0.0177 - accuracy: 0.9929 - val_loss: 0.0271 - val_accuracy: 0.9901\n",
            "Epoch 38/70\n",
            "125/125 [==============================] - 6s 51ms/step - loss: 0.0180 - accuracy: 0.9929 - val_loss: 0.0262 - val_accuracy: 0.9903\n",
            "Epoch 39/70\n",
            "125/125 [==============================] - 6s 48ms/step - loss: 0.0173 - accuracy: 0.9931 - val_loss: 0.0286 - val_accuracy: 0.9898\n",
            "Epoch 40/70\n",
            "125/125 [==============================] - 7s 53ms/step - loss: 0.0173 - accuracy: 0.9931 - val_loss: 0.0320 - val_accuracy: 0.9891\n",
            "Epoch 41/70\n",
            "125/125 [==============================] - 6s 48ms/step - loss: 0.0169 - accuracy: 0.9933 - val_loss: 0.0267 - val_accuracy: 0.9902\n",
            "Epoch 42/70\n",
            "125/125 [==============================] - 6s 51ms/step - loss: 0.0167 - accuracy: 0.9933 - val_loss: 0.0315 - val_accuracy: 0.9891\n",
            "Epoch 43/70\n",
            "125/125 [==============================] - 6s 48ms/step - loss: 0.0164 - accuracy: 0.9935 - val_loss: 0.0269 - val_accuracy: 0.9902\n",
            "Epoch 44/70\n",
            "125/125 [==============================] - 6s 51ms/step - loss: 0.0162 - accuracy: 0.9935 - val_loss: 0.0282 - val_accuracy: 0.9899\n",
            "Epoch 45/70\n",
            "125/125 [==============================] - 6s 48ms/step - loss: 0.0160 - accuracy: 0.9936 - val_loss: 0.0286 - val_accuracy: 0.9900\n",
            "Epoch 46/70\n",
            "125/125 [==============================] - 7s 53ms/step - loss: 0.0172 - accuracy: 0.9933 - val_loss: 0.1219 - val_accuracy: 0.9757\n",
            "Epoch 47/70\n",
            "125/125 [==============================] - 6s 48ms/step - loss: 0.0269 - accuracy: 0.9898 - val_loss: 0.0348 - val_accuracy: 0.9883\n",
            "Epoch 48/70\n",
            "125/125 [==============================] - 6s 51ms/step - loss: 0.0186 - accuracy: 0.9926 - val_loss: 0.0257 - val_accuracy: 0.9904\n",
            "Epoch 49/70\n",
            "125/125 [==============================] - 6s 48ms/step - loss: 0.0164 - accuracy: 0.9935 - val_loss: 0.0240 - val_accuracy: 0.9910\n",
            "Epoch 50/70\n",
            "125/125 [==============================] - 6s 51ms/step - loss: 0.0155 - accuracy: 0.9939 - val_loss: 0.0246 - val_accuracy: 0.9909\n",
            "Epoch 51/70\n",
            "125/125 [==============================] - 6s 50ms/step - loss: 0.0152 - accuracy: 0.9940 - val_loss: 0.0263 - val_accuracy: 0.9905\n",
            "Epoch 52/70\n",
            "125/125 [==============================] - 6s 51ms/step - loss: 0.0150 - accuracy: 0.9941 - val_loss: 0.0250 - val_accuracy: 0.9910\n",
            "Epoch 53/70\n",
            "125/125 [==============================] - 6s 48ms/step - loss: 0.0148 - accuracy: 0.9941 - val_loss: 0.0253 - val_accuracy: 0.9910\n",
            "Epoch 54/70\n",
            "125/125 [==============================] - 7s 53ms/step - loss: 0.0146 - accuracy: 0.9942 - val_loss: 0.0246 - val_accuracy: 0.9909\n",
            "Epoch 55/70\n",
            "125/125 [==============================] - 6s 48ms/step - loss: 0.0143 - accuracy: 0.9944 - val_loss: 0.0254 - val_accuracy: 0.9909\n",
            "Epoch 56/70\n",
            "125/125 [==============================] - 6s 51ms/step - loss: 0.0144 - accuracy: 0.9943 - val_loss: 0.0269 - val_accuracy: 0.9908\n",
            "Epoch 57/70\n",
            "125/125 [==============================] - 6s 48ms/step - loss: 0.0143 - accuracy: 0.9943 - val_loss: 0.0274 - val_accuracy: 0.9901\n",
            "Epoch 58/70\n",
            "125/125 [==============================] - 7s 54ms/step - loss: 0.0144 - accuracy: 0.9943 - val_loss: 0.0264 - val_accuracy: 0.9909\n",
            "Epoch 59/70\n",
            "125/125 [==============================] - 6s 48ms/step - loss: 0.0139 - accuracy: 0.9945 - val_loss: 0.0252 - val_accuracy: 0.9911\n",
            "Epoch 60/70\n",
            "125/125 [==============================] - 6s 51ms/step - loss: 0.0139 - accuracy: 0.9945 - val_loss: 0.0248 - val_accuracy: 0.9913\n",
            "Epoch 61/70\n",
            "125/125 [==============================] - 6s 48ms/step - loss: 0.0139 - accuracy: 0.9945 - val_loss: 0.0247 - val_accuracy: 0.9914\n",
            "Epoch 62/70\n",
            "125/125 [==============================] - 6s 51ms/step - loss: 0.0135 - accuracy: 0.9946 - val_loss: 0.0272 - val_accuracy: 0.9907\n",
            "Epoch 63/70\n",
            "125/125 [==============================] - 6s 48ms/step - loss: 0.0135 - accuracy: 0.9946 - val_loss: 0.0249 - val_accuracy: 0.9911\n",
            "Epoch 64/70\n",
            "125/125 [==============================] - 6s 50ms/step - loss: 0.0136 - accuracy: 0.9946 - val_loss: 0.0313 - val_accuracy: 0.9898\n",
            "Epoch 65/70\n",
            "125/125 [==============================] - 6s 48ms/step - loss: 0.0135 - accuracy: 0.9946 - val_loss: 0.0255 - val_accuracy: 0.9909\n",
            "Epoch 66/70\n",
            "125/125 [==============================] - 6s 51ms/step - loss: 0.0131 - accuracy: 0.9948 - val_loss: 0.0252 - val_accuracy: 0.9911\n",
            "Epoch 67/70\n",
            "125/125 [==============================] - 6s 48ms/step - loss: 0.0129 - accuracy: 0.9949 - val_loss: 0.0276 - val_accuracy: 0.9909\n",
            "Epoch 68/70\n",
            "125/125 [==============================] - 6s 51ms/step - loss: 0.0131 - accuracy: 0.9948 - val_loss: 0.0269 - val_accuracy: 0.9910\n",
            "Epoch 69/70\n",
            "125/125 [==============================] - 6s 48ms/step - loss: 0.0130 - accuracy: 0.9948 - val_loss: 0.0247 - val_accuracy: 0.9914\n",
            "Epoch 70/70\n",
            "125/125 [==============================] - 6s 50ms/step - loss: 0.0127 - accuracy: 0.9950 - val_loss: 0.0258 - val_accuracy: 0.9912\n"
          ]
        }
      ],
      "source": [
        "# OTHER THAN SETTING THE EPOCHS NUMBER, DO NOT CHANGE ANY OTHER CODE\n",
        "\n",
        "### START CODE HERE ###\n",
        "EPOCHS = 70\n",
        "### END CODE HERE ###\n",
        "\n",
        "steps_per_epoch = 4000//BATCH_SIZE\n",
        "validation_steps = 800//BATCH_SIZE\n",
        "test_steps = 200//BATCH_SIZE\n",
        "\n",
        "\n",
        "history = model.fit(training_dataset,\n",
        "                    steps_per_epoch=steps_per_epoch, validation_data=validation_dataset, validation_steps=validation_steps, epochs=EPOCHS)"
      ]
    },
    {
      "cell_type": "markdown",
      "metadata": {
        "id": "BLNzLB3peeNG"
      },
      "source": [
        "**Expected Output:**\n",
        "\n",
        "The losses should generally be decreasing and the accuracies should generally be increasing. For example, observing the first 4 epochs should output something similar:\n",
        "\n",
        "```txt\n",
        "Epoch 1/70\n",
        "125/125 [==============================] - 6s 50ms/step - loss: 0.5542 - accuracy: 0.8635 - val_loss: 0.5335 - val_accuracy: 0.9427\n",
        "Epoch 2/70\n",
        "125/125 [==============================] - 6s 47ms/step - loss: 0.2315 - accuracy: 0.9425 - val_loss: 0.3362 - val_accuracy: 0.9427\n",
        "Epoch 3/70\n",
        "125/125 [==============================] - 6s 47ms/step - loss: 0.2118 - accuracy: 0.9426 - val_loss: 0.2592 - val_accuracy: 0.9427\n",
        "Epoch 4/70\n",
        "125/125 [==============================] - 6s 47ms/step - loss: 0.1782 - accuracy: 0.9431 - val_loss: 0.1770 - val_accuracy: 0.9432\n",
        "```"
      ]
    },
    {
      "cell_type": "markdown",
      "metadata": {
        "id": "eih-Q7GoXzJe"
      },
      "source": [
        "## Model Evaluation"
      ]
    },
    {
      "cell_type": "markdown",
      "metadata": {
        "id": "2bTkaFM2X1gr"
      },
      "source": [
        "### Make Predictions\n",
        "\n",
        "Let's get the predictions using our test dataset as input and print the shape."
      ]
    },
    {
      "cell_type": "code",
      "execution_count": 23,
      "metadata": {
        "id": "zENjQuK0luH5",
        "colab": {
          "base_uri": "https://localhost:8080/"
        },
        "outputId": "4abddab7-603f-488f-b8b2-a29332d2e5e6"
      },
      "outputs": [
        {
          "output_type": "stream",
          "name": "stdout",
          "text": [
            "6/6 [==============================] - 1s 13ms/step\n",
            "(192, 64, 84, 11)\n"
          ]
        }
      ],
      "source": [
        "results = model.predict(test_dataset, steps=test_steps)\n",
        "\n",
        "print(results.shape)"
      ]
    },
    {
      "cell_type": "markdown",
      "metadata": {
        "id": "IReKPT_DZHjA"
      },
      "source": [
        "As you can see, the resulting shape is `(192, 64, 84, 11)`. This means that for each of the 192 images that we have in our test set, there are 11 predictions generated (i.e. one for each class: 0 to 1 plus background)."
      ]
    },
    {
      "cell_type": "markdown",
      "metadata": {
        "id": "OBPBqnHyaSaG"
      },
      "source": [
        "Thus, if you want to see the *probability* of the upper leftmost pixel of the 1st image belonging to class 0, then you can print something like `results[0,0,0,0]`. If you want the probability of the same pixel at class 10, then do `results[0,0,0,10]`.\n",
        "\n",
        "\n"
      ]
    },
    {
      "cell_type": "code",
      "execution_count": 24,
      "metadata": {
        "id": "jwFiR9WAf0Av",
        "colab": {
          "base_uri": "https://localhost:8080/"
        },
        "outputId": "5c2fcbff-c02d-493a-c0aa-9e3ffdd7ff28"
      },
      "outputs": [
        {
          "output_type": "stream",
          "name": "stdout",
          "text": [
            "0.00019363181\n",
            "0.9999714\n"
          ]
        }
      ],
      "source": [
        "print(results[0,0,0,0])\n",
        "print(results[0,0,0,10])"
      ]
    },
    {
      "cell_type": "markdown",
      "metadata": {
        "id": "wKDsqzKEf28V"
      },
      "source": [
        "What we're interested in is to get the *index* of the highest probability of each of these 11 slices and combine them in a single image. We can do that by getting the [argmax](https://numpy.org/doc/stable/reference/generated/numpy.argmax.html) at this axis."
      ]
    },
    {
      "cell_type": "code",
      "execution_count": 25,
      "metadata": {
        "id": "0_Uj_uuV9TQt",
        "colab": {
          "base_uri": "https://localhost:8080/"
        },
        "outputId": "d933c917-5fb0-4198-89de-e0ed6ab66b9c"
      },
      "outputs": [
        {
          "output_type": "stream",
          "name": "stdout",
          "text": [
            "(192, 64, 84)\n"
          ]
        }
      ],
      "source": [
        "results = np.argmax(results, axis=3)\n",
        "\n",
        "print(results.shape)"
      ]
    },
    {
      "cell_type": "markdown",
      "metadata": {
        "id": "ClaGbOLhdKD2"
      },
      "source": [
        "The new array generated per image now only specifies the indices of the class with the highest probability. Let's see the output class of the upper most left pixel. As you might have observed earlier when you inspected the dataset, the upper left corner is usually just part of the background (class 10). The actual digits are written somewhere in the middle parts of the image."
      ]
    },
    {
      "cell_type": "code",
      "execution_count": 26,
      "metadata": {
        "id": "aBeBwvHQd2pZ",
        "colab": {
          "base_uri": "https://localhost:8080/"
        },
        "outputId": "b7589398-e58b-4e0e-db66-efea323ddb74"
      },
      "outputs": [
        {
          "output_type": "stream",
          "name": "stdout",
          "text": [
            "10\n",
            "[[10 10 10 ... 10 10 10]\n",
            " [10 10 10 ... 10 10 10]\n",
            " [10 10 10 ... 10 10 10]\n",
            " ...\n",
            " [10 10 10 ... 10 10 10]\n",
            " [10 10 10 ... 10 10 10]\n",
            " [10 10 10 ... 10 10 10]]\n"
          ]
        }
      ],
      "source": [
        "print(results[0,0,0])\n",
        "\n",
        "# prediction map for image 0\n",
        "print(results[0,:,:])"
      ]
    },
    {
      "cell_type": "markdown",
      "metadata": {
        "id": "V3FxyNgrg7IE"
      },
      "source": [
        "We will use this `results` array when we evaluate our predictions."
      ]
    },
    {
      "cell_type": "markdown",
      "metadata": {
        "id": "hpKDUuAWX5Pj"
      },
      "source": [
        "### Metrics\n",
        "\n",
        "We showed in the lectures two ways to evaluate your predictions. The *intersection over union (IOU)* and the *dice score*. Recall that:\n",
        "\n",
        "$$IOU = \\frac{area\\_of\\_overlap}{area\\_of\\_union}$$\n",
        "<br>\n",
        "$$Dice Score = 2 * \\frac{area\\_of\\_overlap}{combined\\_area}$$\n",
        "\n",
        "The code below does that for you as you've also seen in the ungraded lab. A small smoothing factor is introduced in the denominators to prevent possible division by zero."
      ]
    },
    {
      "cell_type": "code",
      "execution_count": 27,
      "metadata": {
        "id": "gKTpLmly_RXb"
      },
      "outputs": [],
      "source": [
        "def class_wise_metrics(y_true, y_pred):\n",
        "  '''\n",
        "  Computes the class-wise IOU and Dice Score.\n",
        "\n",
        "  Args:\n",
        "    y_true (tensor) - ground truth label maps\n",
        "    y_pred (tensor) - predicted label maps\n",
        "  '''\n",
        "  class_wise_iou = []\n",
        "  class_wise_dice_score = []\n",
        "\n",
        "  smoothing_factor = 0.00001\n",
        "\n",
        "  for i in range(n_classes):\n",
        "    intersection = np.sum((y_pred == i) * (y_true == i))\n",
        "    y_true_area = np.sum((y_true == i))\n",
        "    y_pred_area = np.sum((y_pred == i))\n",
        "    combined_area = y_true_area + y_pred_area\n",
        "\n",
        "    iou = (intersection) / (combined_area - intersection + smoothing_factor)\n",
        "    class_wise_iou.append(iou)\n",
        "\n",
        "    dice_score =  2 * ((intersection) / (combined_area + smoothing_factor))\n",
        "    class_wise_dice_score.append(dice_score)\n",
        "\n",
        "  return class_wise_iou, class_wise_dice_score\n"
      ]
    },
    {
      "cell_type": "markdown",
      "metadata": {
        "id": "FfWPwM4ZhHjE"
      },
      "source": [
        "### Visualize Predictions"
      ]
    },
    {
      "cell_type": "code",
      "execution_count": 28,
      "metadata": {
        "id": "Hkbsk_P1fpRM",
        "colab": {
          "base_uri": "https://localhost:8080/",
          "height": 224
        },
        "outputId": "477377e9-d500-412b-ffbb-f852b5750216"
      },
      "outputs": [
        {
          "output_type": "display_data",
          "data": {
            "text/plain": [
              "<Figure size 1500x400 with 3 Axes>"
            ],
            "image/png": "[encoded data removed]"
          },
          "metadata": {}
        }
      ],
      "source": [
        "# place a number here between 0 to 191 to pick an image from the test set\n",
        "integer_slider = 105\n",
        "\n",
        "ds = test_dataset.unbatch()\n",
        "ds = ds.batch(200)\n",
        "images = []\n",
        "\n",
        "y_true_segments = []\n",
        "for image, annotation in ds.take(2):\n",
        "  y_true_segments = annotation\n",
        "  images = image\n",
        "\n",
        "\n",
        "iou, dice_score = class_wise_metrics(np.argmax(y_true_segments[integer_slider], axis=2), results[integer_slider])\n",
        "show_annotation_and_prediction(image[integer_slider], annotation[integer_slider], results[integer_slider], iou, dice_score)\n"
      ]
    },
    {
      "cell_type": "markdown",
      "metadata": {
        "id": "EiG9K4t6X9iZ"
      },
      "source": [
        "### Compute IOU Score and Dice Score of your model"
      ]
    },
    {
      "cell_type": "code",
      "execution_count": 29,
      "metadata": {
        "id": "2706boF0CNNS",
        "colab": {
          "base_uri": "https://localhost:8080/"
        },
        "outputId": "49b5a944-6cb8-44db-8b16-aaae4c4737a6"
      },
      "outputs": [
        {
          "output_type": "stream",
          "name": "stdout",
          "text": [
            "Digit 0: IOU: 0.8706158347558759 Dice Score: 0.9308333850060617\n",
            "Digit 1: IOU: 0.8657612931163193 Dice Score: 0.9280515104590544\n",
            "Digit 2: IOU: 0.8666091693738549 Dice Score: 0.9285384252821974\n",
            "Digit 3: IOU: 0.8219033220212941 Dice Score: 0.9022469107849707\n",
            "Digit 4: IOU: 0.833626337168569 Dice Score: 0.9092652306203564\n",
            "Digit 5: IOU: 0.81511320903582 Dice Score: 0.8981403528750743\n",
            "Digit 6: IOU: 0.8567278632852338 Dice Score: 0.9228362219645558\n",
            "Digit 7: IOU: 0.87360152136729 Dice Score: 0.9325371605481678\n",
            "Digit 8: IOU: 0.841882919671269 Dice Score: 0.9141546519379468\n",
            "Digit 9: IOU: 0.8065643506966049 Dice Score: 0.8929262335832061\n",
            "\n",
            "Grade is 84.52405820492132\n",
            "You passed!\n"
          ]
        }
      ],
      "source": [
        "cls_wise_iou, cls_wise_dice_score = class_wise_metrics(np.argmax(y_true_segments, axis=3), results)\n",
        "\n",
        "average_iou = 0.0\n",
        "for idx, (iou, dice_score) in enumerate(zip(cls_wise_iou[:-1], cls_wise_dice_score[:-1])):\n",
        "  print(\"Digit {}: IOU: {} Dice Score: {}\".format(idx, iou, dice_score))\n",
        "  average_iou += iou\n",
        "\n",
        "grade = average_iou * 10\n",
        "\n",
        "print(\"\\nGrade is \" + str(grade))\n",
        "\n",
        "PASSING_GRADE = 60\n",
        "if (grade>PASSING_GRADE):\n",
        "  print(\"You passed!\")\n",
        "else:\n",
        "  print(\"You failed. Please check your model and re-train\")"
      ]
    },
    {
      "cell_type": "markdown",
      "metadata": {
        "id": "vvw0HLY2kV3w"
      },
      "source": [
        "## Save the Model\n",
        "\n",
        "Once you're satisfied with the results, you can save your model and upload it to the grader in Coursera. Please run all succeeding cells to ensure that you will have a gradable submission. Otherwise, you might get this error message:\n",
        "\n",
        "`There was a problem grading your submission. Check stderr for more details.`\n",
        "\n",
        "First, save the model file in your Colab workspace."
      ]
    },
    {
      "cell_type": "code",
      "execution_count": 30,
      "metadata": {
        "id": "ULCfGHEKkaO0",
        "colab": {
          "base_uri": "https://localhost:8080/"
        },
        "outputId": "210cf97a-051a-417b-9770-6a2725de8d22"
      },
      "outputs": [
        {
          "output_type": "stream",
          "name": "stderr",
          "text": [
            "/usr/local/lib/python3.10/dist-packages/keras/src/engine/training.py:3103: UserWarning: You are saving your model as an HDF5 file via `model.save()`. This file format is considered legacy. We recommend using instead the native Keras format, e.g. `model.save('my_model.keras')`.\n",
            "  saving_api.save_model(\n"
          ]
        }
      ],
      "source": [
        "# Save the model you just trained\n",
        "model.save(\"temp_model.h5\")"
      ]
    },
    {
      "cell_type": "markdown",
      "metadata": {
        "id": "SuUoVmXBZYqc"
      },
      "source": [
        "Tensorflow releases minor and patch updates every few months ([sometimes quicker](https://pypi.org/project/tensorflow/#history)). Oftentimes, the code and syntax won't change but the newer versions will have a different model definition under the hood. The next cells will convert your newer model to one that the grader can read. You won't have to do this in your personal projects. This is just an extra step for grading."
      ]
    },
    {
      "cell_type": "code",
      "execution_count": 1,
      "metadata": {
        "id": "OxpkHjH40s_F"
      },
      "outputs": [],
      "source": [
        "# Install packages for compatibility with the autograder\n",
        "\n",
        "# NOTE: You can safely ignore errors about version incompatibility of\n",
        "# Colab-bundled packages (e.g. xarray, pydantic, etc.)\n",
        "!pip install protobuf==3.19.5 --quiet\n",
        "\n",
        "!pip install tensorflow==2.8.0 --quiet\n",
        "!pip install keras==2.8.0 --quiet"
      ]
    },
    {
      "cell_type": "markdown",
      "metadata": {
        "id": "bQf0BVmsXIAM"
      },
      "source": [
        "Wait for the cell above to complete. After that, **go to `Runtime > Restart Session` and wait for the kernel to reconnect.** This is necessary so you can reload Tensorflow with the version installed above. Run the next cell to check if you have the correct version. You will get an `AssertionError` if you didn't restart the session."
      ]
    },
    {
      "cell_type": "code",
      "execution_count": 3,
      "metadata": {
        "id": "TEcDAyaNMyW-"
      },
      "outputs": [],
      "source": [
        "import tensorflow as tf\n",
        "\n",
        "# # Check if you have the correct Tensorflow version\n",
        "assert tf.__version__ == '2.8.0', f'You have TF{tf.__version__}. Please install the grader-compatible Tensorflow and select Runtime > Restart Session'"
      ]
    },
    {
      "cell_type": "markdown",
      "metadata": {
        "id": "kaFHTqWufL9F"
      },
      "source": [
        "If you didn't get an error above, you can finally convert the model."
      ]
    },
    {
      "cell_type": "code",
      "execution_count": 4,
      "metadata": {
        "id": "ljeWKuSKYEHE",
        "colab": {
          "base_uri": "https://localhost:8080/"
        },
        "outputId": "bc665358-ed18-4893-8533-4b3f7d15dd1d"
      },
      "outputs": [
        {
          "output_type": "stream",
          "name": "stderr",
          "text": [
            "WARNING:tensorflow:Compiled the loaded model, but the compiled metrics have yet to be built. `model.compile_metrics` will be empty until you train or evaluate the model.\n"
          ]
        }
      ],
      "source": [
        "# Load the model you saved earlier\n",
        "model = tf.keras.models.load_model(\"temp_model.h5\", compile=False)\n",
        "\n",
        "# Re-save the model with the compatible TF version\n",
        "model.save(\"final_model.h5\")"
      ]
    },
    {
      "cell_type": "markdown",
      "metadata": {
        "id": "vG4JE2JNYGUG"
      },
      "source": [
        "Please look for `final_model.h5` in the File Explorer on the left and download it. Then go back to the Coursera classroom and upload it to the Lab item that points to the autograder of Week 3. Alternatively, you can also use the cell below to download the model.\n",
        "\n"
      ]
    },
    {
      "cell_type": "code",
      "execution_count": null,
      "metadata": {
        "id": "NCd50-pubX_o"
      },
      "outputs": [],
      "source": [
        "# You can also use this cell as a shortcut for downloading your model\n",
        "from google.colab import files\n",
        "files.download(\"final_model.h5\")"
      ]
    },
    {
      "cell_type": "markdown",
      "metadata": {
        "id": "dmyvoAynkgVw"
      },
      "source": [
        "**Congratulations on completing this assignment on image segmentation!**"
      ]
    }
  ],
  "metadata": {
    "accelerator": "GPU",
    "colab": {
      "name": "Copy of C3W3_Assignment_Solution.ipynb",
      "provenance": []
    },
    "kernelspec": {
      "display_name": "Python 3 (ipykernel)",
      "language": "python",
      "name": "python3"
    },
    "language_info": {
      "codemirror_mode": {
        "name": "ipython",
        "version": 3
      },
      "file_extension": ".py",
      "mimetype": "text/x-python",
      "name": "python",
      "nbconvert_exporter": "python",
      "pygments_lexer": "ipython3",
      "version": "3.9.13"
    }
  },
  "nbformat": 4,
  "nbformat_minor": 0
}