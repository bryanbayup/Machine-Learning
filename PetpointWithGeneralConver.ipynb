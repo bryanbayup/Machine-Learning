{
  "nbformat": 4,
  "nbformat_minor": 0,
  "metadata": {
    "colab": {
      "provenance": [],
      "authorship_tag": "ABX9TyNsET0xSsTMVw7ZaL8tsOvz",
      "include_colab_link": true
    },
    "kernelspec": {
      "name": "python3",
      "display_name": "Python 3"
    },
    "language_info": {
      "name": "python"
    }
  },
  "cells": [
    {
      "cell_type": "markdown",
      "metadata": {
        "id": "view-in-github",
        "colab_type": "text"
      },
      "source": [
        "<a href=\"https://colab.research.google.com/github/bryanbayup/Machine-Learning/blob/main/PetpointWithGeneralConver.ipynb\" target=\"_parent\"><img src=\"https://colab.research.google.com/assets/colab-badge.svg\" alt=\"Open In Colab\"/></a>"
      ]
    },
    {
      "cell_type": "code",
      "execution_count": 1,
      "metadata": {
        "colab": {
          "base_uri": "https://localhost:8080/"
        },
        "id": "hPVpzJLt48L1",
        "outputId": "1d5c754e-3917-402c-fa61-52d7a089ef14"
      },
      "outputs": [
        {
          "output_type": "stream",
          "name": "stdout",
          "text": [
            "Collecting Sastrawi\n",
            "  Downloading Sastrawi-1.0.1-py2.py3-none-any.whl.metadata (909 bytes)\n",
            "Downloading Sastrawi-1.0.1-py2.py3-none-any.whl (209 kB)\n",
            "\u001b[2K   \u001b[90m━━━━━━━━━━━━━━━━━━━━━━━━━━━━━━━━━━━━━━━━\u001b[0m \u001b[32m209.7/209.7 kB\u001b[0m \u001b[31m3.3 MB/s\u001b[0m eta \u001b[36m0:00:00\u001b[0m\n",
            "\u001b[?25hInstalling collected packages: Sastrawi\n",
            "Successfully installed Sastrawi-1.0.1\n"
          ]
        }
      ],
      "source": [
        "!pip install Sastrawi"
      ]
    },
    {
      "cell_type": "markdown",
      "source": [
        "Membaca Dataset dan Preprocessing Teks"
      ],
      "metadata": {
        "id": "ICtkMk-j6UWX"
      }
    },
    {
      "cell_type": "code",
      "source": [
        "import re\n",
        "import string\n",
        "import pandas as pd\n",
        "from Sastrawi.StopWordRemover.StopWordRemoverFactory import StopWordRemoverFactory\n",
        "\n",
        "# Memuat dataset penyakit\n",
        "df_disease = pd.read_csv('disease_classification.csv')\n",
        "# Memuat dataset percakapan umum\n",
        "df_conversation = pd.read_csv('general_conversation.csv')"
      ],
      "metadata": {
        "id": "p6gXgx345O3i"
      },
      "execution_count": 17,
      "outputs": []
    },
    {
      "cell_type": "code",
      "source": [
        "# Fungsi untuk membersihkan teks\n",
        "def clean_text(text):\n",
        "    text = text.lower()  # ubah teks menjadi huruf kecil\n",
        "    text = re.sub(r'\\d+', '', text)  # hapus angka\n",
        "    text = text.translate(str.maketrans('', '', string.punctuation))  # hapus tanda baca\n",
        "    text = text.strip()  # hapus spasi berlebih\n",
        "    return text\n",
        "\n",
        "# Fungsi untuk menghapus stopwords\n",
        "def remove_stopwords(text):\n",
        "    factory = StopWordRemoverFactory()\n",
        "    stopword_remover = factory.create_stop_word_remover()\n",
        "    cleaned_text = stopword_remover.remove(text)\n",
        "    return cleaned_text"
      ],
      "metadata": {
        "id": "dCGfIYgd-xmP"
      },
      "execution_count": 18,
      "outputs": []
    },
    {
      "cell_type": "code",
      "source": [
        "# terapkan fungsi clean & stopwords\n",
        "df_disease['Cleaned_Gejala'] = df_disease['Gejala'].apply(clean_text).apply(remove_stopwords)\n",
        "df_disease['Cleaned_Penanganan'] = df_disease['Penanganan Pertama'].apply(clean_text).apply(remove_stopwords)\n",
        "\n",
        "df_conversation['Cleaned_Input'] = df_conversation['Input'].apply(clean_text).apply(remove_stopwords)\n",
        "df_conversation['Cleaned_Output'] = df_conversation['Output'].apply(clean_text).apply(remove_stopwords)"
      ],
      "metadata": {
        "id": "t7vdtHvND3LE"
      },
      "execution_count": 19,
      "outputs": []
    },
    {
      "cell_type": "code",
      "source": [
        "from sklearn.preprocessing import LabelEncoder\n",
        "\n",
        "# ubah nama penyakit menjadi label numerik\n",
        "le_disease = LabelEncoder()\n",
        "df_disease['Label_Penyakit'] = le_disease.fit_transform(df_disease['Nama Penyakit'])\n",
        "\n",
        "# ubah nama hewan menjadi label numerik\n",
        "le_animal = LabelEncoder()\n",
        "df_disease['Label_Hewan'] = le_animal.fit_transform(df_disease['Nama Hewan'])"
      ],
      "metadata": {
        "id": "NnXWe5GyD-tc"
      },
      "execution_count": 20,
      "outputs": []
    },
    {
      "cell_type": "code",
      "source": [
        "from sklearn.preprocessing import LabelEncoder\n",
        "\n",
        "le_output = LabelEncoder()\n",
        "df_conversation['Label_Output'] = le_output.fit_transform(df_conversation['Output'])\n",
        "\n",
        "# tampilkan label dan mappingnya\n",
        "label_mapping = dict(zip(le_output.classes_, le_output.transform(le_output.classes_)))\n",
        "print(\"Label Mapping:\", label_mapping)"
      ],
      "metadata": {
        "colab": {
          "base_uri": "https://localhost:8080/"
        },
        "id": "fCCGTkrtFB0d",
        "outputId": "fb3ab639-c4bc-4911-e3d7-7f37b576075d"
      },
      "execution_count": 21,
      "outputs": [
        {
          "output_type": "stream",
          "name": "stdout",
          "text": [
            "Label Mapping: {'Beberapa gejala umum termasuk demam, muntah, diare, kelelahan, dan perubahan perilaku. Apakah ada yang lain yang bisa saya bantu?': 0, 'Coba beri makanan yang lembut atau basah, pastikan tidak ada masalah kesehatan, dan konsultasikan dengan dokter hewan jika masalah berlanjut. Apakah ada yang lain yang bisa saya bantu?': 1, 'Gejala dehidrasi pada anjing meliputi mata cekung, gusi kering, penurunan elastisitas kulit, dan lemas. Apakah ada yang lain yang bisa saya bantu?': 2, 'Gejala rabies pada anjing termasuk perubahan perilaku, agresi, kejang, dan kesulitan bernafas. Apakah ada yang lain yang bisa saya bantu?': 3, 'Hai! Apa kabar?': 4, 'Halo! Ada yang bisa saya bantu?': 5, 'Isolasi kucing yang terinfeksi, berikan makanan lunak, bersihkan luka di mulut, dan konsultasikan dengan dokter hewan untuk perawatan medis. Apakah ada yang lain yang bisa saya bantu?': 6, 'Istirahat yang cukup, berikan cairan yang cukup, dan konsultasikan dengan dokter hewan jika batuk berlangsung lama atau parah. Apakah ada yang lain yang bisa saya bantu?': 7, 'Jaga agar anjing tetap tenang, hindari mencemari mulutnya, dan segera bawa ke dokter hewan. Apakah ada yang lain yang bisa saya bantu?': 8, 'Kucing biasanya mendapatkan vitamin yang mereka butuhkan dari makanan yang seimbang. Namun, dalam beberapa kasus, suplementasi mungkin diperlukan sesuai anjuran dokter hewan. Apakah ada yang lain yang bisa saya bantu?': 9, 'Maaf, saya tidak memiliki informasi tentang cuaca saat ini.': 10, 'Nama saya Alexa.': 11, 'Pastikan anjing Anda mendapatkan istirahat yang cukup, berikan air bersih, dan segera konsultasikan dengan dokter hewan. Apakah ada yang lain yang bisa saya bantu?': 12, 'Pastikan anjing tetap terhidrasi, beri makanan yang mudah dicerna, dan konsultasikan dengan dokter hewan jika diare berlangsung lebih dari satu hari. Apakah ada yang lain yang bisa saya bantu?': 13, 'Pastikan kucing tetap terhidrasi, beri makanan yang lembut, dan konsultasikan dengan dokter hewan jika diare berlangsung lebih dari satu hari. Apakah ada yang lain yang bisa saya bantu?': 14, 'Pastikan kucing tetap terhidrasi, periksa makanan yang diberikan, dan segera konsultasikan dengan dokter hewan jika muntah berlanjut. Apakah ada yang lain yang bisa saya bantu?': 15, 'Pencegahan meliputi pemberian obat anti-parasit secara rutin, menjaga kebersihan lingkungan, dan pemeriksaan rutin ke dokter hewan. Apakah ada yang lain yang bisa saya bantu?': 16, 'Rabies adalah penyakit yang fatal dan tidak ada obatnya. Pencegahan melalui vaksinasi sangat penting. Apakah ada yang lain yang bisa saya bantu?': 17, 'Sama-sama! Jika ada yang lain yang bisa saya bantu, jangan ragu untuk bertanya.': 18, 'Sama-sama! Senang bisa membantu.': 19, 'Saya adalah Alexa, chatbot yang siap membantu Anda.': 20, 'Saya adalah chatbot, jadi saya tidak makan, tetapi saya di sini untuk membantu Anda!': 21, 'Saya baik, terima kasih! Bagaimana dengan Anda?': 22, 'Saya bisa membantu Anda mendiagnosis penyakit hewan atau berbicara dengan Anda tentang hal-hal umum.': 23, 'Saya memiliki informasi tentang berbagai penyakit hewan, gejala, dan penanganan pertama. Silakan tanyakan jika Anda membutuhkan bantuan.': 24, 'Selamat malam! Semoga Anda beristirahat dengan nyenyak.': 25, 'Selamat pagi! Apa kabar hari ini?': 26, 'Selamat siang! Ada yang bisa saya bantu?': 27, 'Selamat sore! Apa yang bisa saya lakukan untuk Anda?': 28, 'Selamat ulang tahun! Semoga harimu menyenangkan.': 29, 'Tanda-tanda penyakit jantung pada anjing termasuk kelelahan, sesak napas, batuk, dan pembengkakan di perut. Apakah ada yang lain yang bisa saya bantu?': 30, 'Tentu! Mengapa kucing suka bermain dengan benang? Karena mereka ingin menjadi penjahit hebat!': 31, 'Tentu! Pastikan kucing Anda mendapatkan vaksinasi yang tepat, diet seimbang, dan pemeriksaan rutin ke dokter hewan. Apakah ada yang lain yang bisa saya bantu?': 32, 'Tentu! Saya siap membantu Anda dengan pertanyaan tentang penyakit hewan atau percakapan umum.': 33, 'Terima kasih! Saya terus belajar untuk bisa membantu Anda lebih baik.': 34, 'Tujuan saya adalah membantu Anda dengan pertanyaan tentang kesehatan hewan atau percakapan sehari-hari.': 35, 'Vaksin penting untuk kucing termasuk vaksin panleukopenia, rabies, feline herpesvirus, dan calicivirus. Apakah ada yang lain yang bisa saya bantu?': 36, 'Vaksinasi dan pemberian obat pencegahan secara rutin sangat efektif dalam mencegah heartworm. Apakah ada yang lain yang bisa saya bantu?': 37, 'Ya, kucing bisa mengalami penyakit jantung seperti kardiomiopati. Gejalanya termasuk kelelahan, sesak napas, dan pembengkakan perut. Apakah ada yang lain yang bisa saya bantu?': 38}\n"
          ]
        }
      ]
    },
    {
      "cell_type": "code",
      "source": [
        "from sklearn.feature_extraction.text import TfidfVectorizer\n",
        "\n",
        "# gabungkan semua teks gejala\n",
        "all_text1 = df_disease['Cleaned_Gejala'].tolist()\n",
        "\n",
        "# buat TF-IDF Vectorizer\n",
        "vectorizer = TfidfVectorizer()\n",
        "X_disease = vectorizer.fit_transform(all_text1)\n",
        "\n",
        "# set label penyakit sebagai target\n",
        "y_disease = df_disease['Label_Penyakit']"
      ],
      "metadata": {
        "id": "hLMSBJo5Eo8z"
      },
      "execution_count": 26,
      "outputs": []
    },
    {
      "cell_type": "code",
      "source": [
        "from sklearn.feature_extraction.text import TfidfVectorizer\n",
        "\n",
        "# gabungkan semua teks input\n",
        "all_text2 = df_conversation['Cleaned_Input'].tolist()\n",
        "\n",
        "# buat TF-IDF Vectorizer\n",
        "vectorizer = TfidfVectorizer()\n",
        "X_conversation = vectorizer.fit_transform(all_text2)\n",
        "\n",
        "# set label output sebagai target\n",
        "y_conversation = df_conversation['Label_Output']"
      ],
      "metadata": {
        "id": "_WziJZovEzjD"
      },
      "execution_count": 27,
      "outputs": []
    },
    {
      "cell_type": "code",
      "source": [
        "from sklearn.model_selection import train_test_split\n",
        "\n",
        "# bagi Data untuk Training dan Testing disease\n",
        "X_train_d, X_test_d, y_train_d, y_test_d = train_test_split(\n",
        "    X_disease, y_disease, test_size=0.2, random_state=42)"
      ],
      "metadata": {
        "id": "Wy2UUJOTF-CM"
      },
      "execution_count": 28,
      "outputs": []
    },
    {
      "cell_type": "code",
      "source": [
        "# bagi Data untuk Training dan Testing conversation\n",
        "X_train_c, X_test_c, y_train_c, y_test_c = train_test_split(\n",
        "    X_conversation, y_conversation, test_size=0.2, random_state=42)"
      ],
      "metadata": {
        "id": "_as63VzmHI_R"
      },
      "execution_count": 29,
      "outputs": []
    },
    {
      "cell_type": "code",
      "source": [
        "import tensorflow as tf\n",
        "from tensorflow.keras.models import Sequential\n",
        "from tensorflow.keras.layers import Dense, Dropout\n",
        "\n",
        "# konversi sparse matrix ke dense matrix\n",
        "X_train_d_dense = X_train_d.toarray()\n",
        "X_test_d_dense = X_test_d.toarray()\n",
        "\n",
        "# dapatkan jumlah fitur\n",
        "input_dim1 = X_train_d_dense.shape[1]\n",
        "\n",
        "# bangun model 1\n",
        "model1 = Sequential()\n",
        "model1.add(Dense(128, input_shape=(input_dim1,), activation='relu'))\n",
        "model1.add(Dropout(0.5))\n",
        "model1.add(Dense(64, activation='relu'))\n",
        "model1.add(Dense(len(le_disease.classes_), activation='softmax'))\n",
        "\n",
        "# mengkompilasi model 1\n",
        "model1.compile(optimizer='adam',\n",
        "              loss='sparse_categorical_crossentropy',\n",
        "              metrics=['accuracy'])\n",
        "\n",
        "# Menampilkan ringkasan model 1\n",
        "model1.summary()"
      ],
      "metadata": {
        "colab": {
          "base_uri": "https://localhost:8080/",
          "height": 312
        },
        "id": "H0xmeb0fHSYV",
        "outputId": "d7c644d6-c8bb-4bee-f5b1-468673cd7192"
      },
      "execution_count": 35,
      "outputs": [
        {
          "output_type": "stream",
          "name": "stderr",
          "text": [
            "/usr/local/lib/python3.10/dist-packages/keras/src/layers/core/dense.py:87: UserWarning: Do not pass an `input_shape`/`input_dim` argument to a layer. When using Sequential models, prefer using an `Input(shape)` object as the first layer in the model instead.\n",
            "  super().__init__(activity_regularizer=activity_regularizer, **kwargs)\n"
          ]
        },
        {
          "output_type": "display_data",
          "data": {
            "text/plain": [
              "\u001b[1mModel: \"sequential_3\"\u001b[0m\n"
            ],
            "text/html": [
              "<pre style=\"white-space:pre;overflow-x:auto;line-height:normal;font-family:Menlo,'DejaVu Sans Mono',consolas,'Courier New',monospace\"><span style=\"font-weight: bold\">Model: \"sequential_3\"</span>\n",
              "</pre>\n"
            ]
          },
          "metadata": {}
        },
        {
          "output_type": "display_data",
          "data": {
            "text/plain": [
              "┏━━━━━━━━━━━━━━━━━━━━━━━━━━━━━━━━━━━━━━┳━━━━━━━━━━━━━━━━━━━━━━━━━━━━━┳━━━━━━━━━━━━━━━━━┓\n",
              "┃\u001b[1m \u001b[0m\u001b[1mLayer (type)                        \u001b[0m\u001b[1m \u001b[0m┃\u001b[1m \u001b[0m\u001b[1mOutput Shape               \u001b[0m\u001b[1m \u001b[0m┃\u001b[1m \u001b[0m\u001b[1m        Param #\u001b[0m\u001b[1m \u001b[0m┃\n",
              "┡━━━━━━━━━━━━━━━━━━━━━━━━━━━━━━━━━━━━━━╇━━━━━━━━━━━━━━━━━━━━━━━━━━━━━╇━━━━━━━━━━━━━━━━━┩\n",
              "│ dense_9 (\u001b[38;5;33mDense\u001b[0m)                      │ (\u001b[38;5;45mNone\u001b[0m, \u001b[38;5;34m128\u001b[0m)                 │           \u001b[38;5;34m4,736\u001b[0m │\n",
              "├──────────────────────────────────────┼─────────────────────────────┼─────────────────┤\n",
              "│ dropout_3 (\u001b[38;5;33mDropout\u001b[0m)                  │ (\u001b[38;5;45mNone\u001b[0m, \u001b[38;5;34m128\u001b[0m)                 │               \u001b[38;5;34m0\u001b[0m │\n",
              "├──────────────────────────────────────┼─────────────────────────────┼─────────────────┤\n",
              "│ dense_10 (\u001b[38;5;33mDense\u001b[0m)                     │ (\u001b[38;5;45mNone\u001b[0m, \u001b[38;5;34m64\u001b[0m)                  │           \u001b[38;5;34m8,256\u001b[0m │\n",
              "├──────────────────────────────────────┼─────────────────────────────┼─────────────────┤\n",
              "│ dense_11 (\u001b[38;5;33mDense\u001b[0m)                     │ (\u001b[38;5;45mNone\u001b[0m, \u001b[38;5;34m10\u001b[0m)                  │             \u001b[38;5;34m650\u001b[0m │\n",
              "└──────────────────────────────────────┴─────────────────────────────┴─────────────────┘\n"
            ],
            "text/html": [
              "<pre style=\"white-space:pre;overflow-x:auto;line-height:normal;font-family:Menlo,'DejaVu Sans Mono',consolas,'Courier New',monospace\">┏━━━━━━━━━━━━━━━━━━━━━━━━━━━━━━━━━━━━━━┳━━━━━━━━━━━━━━━━━━━━━━━━━━━━━┳━━━━━━━━━━━━━━━━━┓\n",
              "┃<span style=\"font-weight: bold\"> Layer (type)                         </span>┃<span style=\"font-weight: bold\"> Output Shape                </span>┃<span style=\"font-weight: bold\">         Param # </span>┃\n",
              "┡━━━━━━━━━━━━━━━━━━━━━━━━━━━━━━━━━━━━━━╇━━━━━━━━━━━━━━━━━━━━━━━━━━━━━╇━━━━━━━━━━━━━━━━━┩\n",
              "│ dense_9 (<span style=\"color: #0087ff; text-decoration-color: #0087ff\">Dense</span>)                      │ (<span style=\"color: #00d7ff; text-decoration-color: #00d7ff\">None</span>, <span style=\"color: #00af00; text-decoration-color: #00af00\">128</span>)                 │           <span style=\"color: #00af00; text-decoration-color: #00af00\">4,736</span> │\n",
              "├──────────────────────────────────────┼─────────────────────────────┼─────────────────┤\n",
              "│ dropout_3 (<span style=\"color: #0087ff; text-decoration-color: #0087ff\">Dropout</span>)                  │ (<span style=\"color: #00d7ff; text-decoration-color: #00d7ff\">None</span>, <span style=\"color: #00af00; text-decoration-color: #00af00\">128</span>)                 │               <span style=\"color: #00af00; text-decoration-color: #00af00\">0</span> │\n",
              "├──────────────────────────────────────┼─────────────────────────────┼─────────────────┤\n",
              "│ dense_10 (<span style=\"color: #0087ff; text-decoration-color: #0087ff\">Dense</span>)                     │ (<span style=\"color: #00d7ff; text-decoration-color: #00d7ff\">None</span>, <span style=\"color: #00af00; text-decoration-color: #00af00\">64</span>)                  │           <span style=\"color: #00af00; text-decoration-color: #00af00\">8,256</span> │\n",
              "├──────────────────────────────────────┼─────────────────────────────┼─────────────────┤\n",
              "│ dense_11 (<span style=\"color: #0087ff; text-decoration-color: #0087ff\">Dense</span>)                     │ (<span style=\"color: #00d7ff; text-decoration-color: #00d7ff\">None</span>, <span style=\"color: #00af00; text-decoration-color: #00af00\">10</span>)                  │             <span style=\"color: #00af00; text-decoration-color: #00af00\">650</span> │\n",
              "└──────────────────────────────────────┴─────────────────────────────┴─────────────────┘\n",
              "</pre>\n"
            ]
          },
          "metadata": {}
        },
        {
          "output_type": "display_data",
          "data": {
            "text/plain": [
              "\u001b[1m Total params: \u001b[0m\u001b[38;5;34m13,642\u001b[0m (53.29 KB)\n"
            ],
            "text/html": [
              "<pre style=\"white-space:pre;overflow-x:auto;line-height:normal;font-family:Menlo,'DejaVu Sans Mono',consolas,'Courier New',monospace\"><span style=\"font-weight: bold\"> Total params: </span><span style=\"color: #00af00; text-decoration-color: #00af00\">13,642</span> (53.29 KB)\n",
              "</pre>\n"
            ]
          },
          "metadata": {}
        },
        {
          "output_type": "display_data",
          "data": {
            "text/plain": [
              "\u001b[1m Trainable params: \u001b[0m\u001b[38;5;34m13,642\u001b[0m (53.29 KB)\n"
            ],
            "text/html": [
              "<pre style=\"white-space:pre;overflow-x:auto;line-height:normal;font-family:Menlo,'DejaVu Sans Mono',consolas,'Courier New',monospace\"><span style=\"font-weight: bold\"> Trainable params: </span><span style=\"color: #00af00; text-decoration-color: #00af00\">13,642</span> (53.29 KB)\n",
              "</pre>\n"
            ]
          },
          "metadata": {}
        },
        {
          "output_type": "display_data",
          "data": {
            "text/plain": [
              "\u001b[1m Non-trainable params: \u001b[0m\u001b[38;5;34m0\u001b[0m (0.00 B)\n"
            ],
            "text/html": [
              "<pre style=\"white-space:pre;overflow-x:auto;line-height:normal;font-family:Menlo,'DejaVu Sans Mono',consolas,'Courier New',monospace\"><span style=\"font-weight: bold\"> Non-trainable params: </span><span style=\"color: #00af00; text-decoration-color: #00af00\">0</span> (0.00 B)\n",
              "</pre>\n"
            ]
          },
          "metadata": {}
        }
      ]
    },
    {
      "cell_type": "code",
      "source": [
        "# latih model 1 untuk klasifikasi\n",
        "epochs = 50\n",
        "batch_size = 64\n",
        "\n",
        "history = model1.fit(X_train_d_dense, y_train_d,\n",
        "                    epochs=epochs,\n",
        "                    batch_size=batch_size,\n",
        "                    validation_data=(X_test_d_dense, y_test_d))"
      ],
      "metadata": {
        "id": "pRww7A-pKMPP",
        "outputId": "46aa0b5c-1dab-47c7-e5e7-a6c028e57d20",
        "colab": {
          "base_uri": "https://localhost:8080/"
        }
      },
      "execution_count": 36,
      "outputs": [
        {
          "output_type": "stream",
          "name": "stdout",
          "text": [
            "Epoch 1/50\n",
            "\u001b[1m3/3\u001b[0m \u001b[32m━━━━━━━━━━━━━━━━━━━━\u001b[0m\u001b[37m\u001b[0m \u001b[1m2s\u001b[0m 132ms/step - accuracy: 0.0914 - loss: 2.2843 - val_accuracy: 0.2500 - val_loss: 2.2061\n",
            "Epoch 2/50\n",
            "\u001b[1m3/3\u001b[0m \u001b[32m━━━━━━━━━━━━━━━━━━━━\u001b[0m\u001b[37m\u001b[0m \u001b[1m0s\u001b[0m 18ms/step - accuracy: 0.1871 - loss: 2.2215 - val_accuracy: 0.7750 - val_loss: 2.1335\n",
            "Epoch 3/50\n",
            "\u001b[1m3/3\u001b[0m \u001b[32m━━━━━━━━━━━━━━━━━━━━\u001b[0m\u001b[37m\u001b[0m \u001b[1m0s\u001b[0m 18ms/step - accuracy: 0.3539 - loss: 2.1488 - val_accuracy: 1.0000 - val_loss: 2.0558\n",
            "Epoch 4/50\n",
            "\u001b[1m3/3\u001b[0m \u001b[32m━━━━━━━━━━━━━━━━━━━━\u001b[0m\u001b[37m\u001b[0m \u001b[1m0s\u001b[0m 18ms/step - accuracy: 0.6281 - loss: 2.0686 - val_accuracy: 1.0000 - val_loss: 1.9716\n",
            "Epoch 5/50\n",
            "\u001b[1m3/3\u001b[0m \u001b[32m━━━━━━━━━━━━━━━━━━━━\u001b[0m\u001b[37m\u001b[0m \u001b[1m0s\u001b[0m 18ms/step - accuracy: 0.8152 - loss: 1.9822 - val_accuracy: 1.0000 - val_loss: 1.8796\n",
            "Epoch 6/50\n",
            "\u001b[1m3/3\u001b[0m \u001b[32m━━━━━━━━━━━━━━━━━━━━\u001b[0m\u001b[37m\u001b[0m \u001b[1m0s\u001b[0m 17ms/step - accuracy: 0.9363 - loss: 1.8886 - val_accuracy: 1.0000 - val_loss: 1.7776\n",
            "Epoch 7/50\n",
            "\u001b[1m3/3\u001b[0m \u001b[32m━━━━━━━━━━━━━━━━━━━━\u001b[0m\u001b[37m\u001b[0m \u001b[1m0s\u001b[0m 21ms/step - accuracy: 0.9207 - loss: 1.8187 - val_accuracy: 1.0000 - val_loss: 1.6633\n",
            "Epoch 8/50\n",
            "\u001b[1m3/3\u001b[0m \u001b[32m━━━━━━━━━━━━━━━━━━━━\u001b[0m\u001b[37m\u001b[0m \u001b[1m0s\u001b[0m 19ms/step - accuracy: 0.9457 - loss: 1.6832 - val_accuracy: 1.0000 - val_loss: 1.5402\n",
            "Epoch 9/50\n",
            "\u001b[1m3/3\u001b[0m \u001b[32m━━━━━━━━━━━━━━━━━━━━\u001b[0m\u001b[37m\u001b[0m \u001b[1m0s\u001b[0m 19ms/step - accuracy: 0.9637 - loss: 1.5669 - val_accuracy: 1.0000 - val_loss: 1.4062\n",
            "Epoch 10/50\n",
            "\u001b[1m3/3\u001b[0m \u001b[32m━━━━━━━━━━━━━━━━━━━━\u001b[0m\u001b[37m\u001b[0m \u001b[1m0s\u001b[0m 32ms/step - accuracy: 0.9578 - loss: 1.4608 - val_accuracy: 1.0000 - val_loss: 1.2631\n",
            "Epoch 11/50\n",
            "\u001b[1m3/3\u001b[0m \u001b[32m━━━━━━━━━━━━━━━━━━━━\u001b[0m\u001b[37m\u001b[0m \u001b[1m0s\u001b[0m 23ms/step - accuracy: 0.9586 - loss: 1.3093 - val_accuracy: 1.0000 - val_loss: 1.1104\n",
            "Epoch 12/50\n",
            "\u001b[1m3/3\u001b[0m \u001b[32m━━━━━━━━━━━━━━━━━━━━\u001b[0m\u001b[37m\u001b[0m \u001b[1m0s\u001b[0m 19ms/step - accuracy: 0.9598 - loss: 1.1547 - val_accuracy: 1.0000 - val_loss: 0.9530\n",
            "Epoch 13/50\n",
            "\u001b[1m3/3\u001b[0m \u001b[32m━━━━━━━━━━━━━━━━━━━━\u001b[0m\u001b[37m\u001b[0m \u001b[1m0s\u001b[0m 18ms/step - accuracy: 0.9539 - loss: 1.0374 - val_accuracy: 1.0000 - val_loss: 0.7974\n",
            "Epoch 14/50\n",
            "\u001b[1m3/3\u001b[0m \u001b[32m━━━━━━━━━━━━━━━━━━━━\u001b[0m\u001b[37m\u001b[0m \u001b[1m0s\u001b[0m 19ms/step - accuracy: 0.9695 - loss: 0.8985 - val_accuracy: 1.0000 - val_loss: 0.6512\n",
            "Epoch 15/50\n",
            "\u001b[1m3/3\u001b[0m \u001b[32m━━━━━━━━━━━━━━━━━━━━\u001b[0m\u001b[37m\u001b[0m \u001b[1m0s\u001b[0m 18ms/step - accuracy: 0.9637 - loss: 0.7376 - val_accuracy: 1.0000 - val_loss: 0.5200\n",
            "Epoch 16/50\n",
            "\u001b[1m3/3\u001b[0m \u001b[32m━━━━━━━━━━━━━━━━━━━━\u001b[0m\u001b[37m\u001b[0m \u001b[1m0s\u001b[0m 30ms/step - accuracy: 0.9656 - loss: 0.6405 - val_accuracy: 1.0000 - val_loss: 0.4077\n",
            "Epoch 17/50\n",
            "\u001b[1m3/3\u001b[0m \u001b[32m━━━━━━━━━━━━━━━━━━━━\u001b[0m\u001b[37m\u001b[0m \u001b[1m0s\u001b[0m 18ms/step - accuracy: 0.9637 - loss: 0.5564 - val_accuracy: 1.0000 - val_loss: 0.3155\n",
            "Epoch 18/50\n",
            "\u001b[1m3/3\u001b[0m \u001b[32m━━━━━━━━━━━━━━━━━━━━\u001b[0m\u001b[37m\u001b[0m \u001b[1m0s\u001b[0m 18ms/step - accuracy: 0.9676 - loss: 0.4122 - val_accuracy: 1.0000 - val_loss: 0.2413\n",
            "Epoch 19/50\n",
            "\u001b[1m3/3\u001b[0m \u001b[32m━━━━━━━━━━━━━━━━━━━━\u001b[0m\u001b[37m\u001b[0m \u001b[1m0s\u001b[0m 18ms/step - accuracy: 0.9637 - loss: 0.3981 - val_accuracy: 1.0000 - val_loss: 0.1837\n",
            "Epoch 20/50\n",
            "\u001b[1m3/3\u001b[0m \u001b[32m━━━━━━━━━━━━━━━━━━━━\u001b[0m\u001b[37m\u001b[0m \u001b[1m0s\u001b[0m 32ms/step - accuracy: 0.9598 - loss: 0.3503 - val_accuracy: 1.0000 - val_loss: 0.1405\n",
            "Epoch 21/50\n",
            "\u001b[1m3/3\u001b[0m \u001b[32m━━━━━━━━━━━━━━━━━━━━\u001b[0m\u001b[37m\u001b[0m \u001b[1m0s\u001b[0m 35ms/step - accuracy: 0.9598 - loss: 0.2776 - val_accuracy: 1.0000 - val_loss: 0.1081\n",
            "Epoch 22/50\n",
            "\u001b[1m3/3\u001b[0m \u001b[32m━━━━━━━━━━━━━━━━━━━━\u001b[0m\u001b[37m\u001b[0m \u001b[1m0s\u001b[0m 21ms/step - accuracy: 0.9578 - loss: 0.2560 - val_accuracy: 1.0000 - val_loss: 0.0840\n",
            "Epoch 23/50\n",
            "\u001b[1m3/3\u001b[0m \u001b[32m━━━━━━━━━━━━━━━━━━━━\u001b[0m\u001b[37m\u001b[0m \u001b[1m0s\u001b[0m 22ms/step - accuracy: 0.9715 - loss: 0.1941 - val_accuracy: 1.0000 - val_loss: 0.0658\n",
            "Epoch 24/50\n",
            "\u001b[1m3/3\u001b[0m \u001b[32m━━━━━━━━━━━━━━━━━━━━\u001b[0m\u001b[37m\u001b[0m \u001b[1m0s\u001b[0m 18ms/step - accuracy: 0.9539 - loss: 0.2325 - val_accuracy: 1.0000 - val_loss: 0.0523\n",
            "Epoch 25/50\n",
            "\u001b[1m3/3\u001b[0m \u001b[32m━━━━━━━━━━━━━━━━━━━━\u001b[0m\u001b[37m\u001b[0m \u001b[1m0s\u001b[0m 19ms/step - accuracy: 0.9676 - loss: 0.1576 - val_accuracy: 1.0000 - val_loss: 0.0422\n",
            "Epoch 26/50\n",
            "\u001b[1m3/3\u001b[0m \u001b[32m━━━━━━━━━━━━━━━━━━━━\u001b[0m\u001b[37m\u001b[0m \u001b[1m0s\u001b[0m 20ms/step - accuracy: 0.9695 - loss: 0.1555 - val_accuracy: 1.0000 - val_loss: 0.0347\n",
            "Epoch 27/50\n",
            "\u001b[1m3/3\u001b[0m \u001b[32m━━━━━━━━━━━━━━━━━━━━\u001b[0m\u001b[37m\u001b[0m \u001b[1m0s\u001b[0m 22ms/step - accuracy: 0.9637 - loss: 0.1569 - val_accuracy: 1.0000 - val_loss: 0.0289\n",
            "Epoch 28/50\n",
            "\u001b[1m3/3\u001b[0m \u001b[32m━━━━━━━━━━━━━━━━━━━━\u001b[0m\u001b[37m\u001b[0m \u001b[1m0s\u001b[0m 18ms/step - accuracy: 0.9598 - loss: 0.1586 - val_accuracy: 1.0000 - val_loss: 0.0245\n",
            "Epoch 29/50\n",
            "\u001b[1m3/3\u001b[0m \u001b[32m━━━━━━━━━━━━━━━━━━━━\u001b[0m\u001b[37m\u001b[0m \u001b[1m0s\u001b[0m 18ms/step - accuracy: 0.9656 - loss: 0.1317 - val_accuracy: 1.0000 - val_loss: 0.0211\n",
            "Epoch 30/50\n",
            "\u001b[1m3/3\u001b[0m \u001b[32m━━━━━━━━━━━━━━━━━━━━\u001b[0m\u001b[37m\u001b[0m \u001b[1m0s\u001b[0m 20ms/step - accuracy: 0.9598 - loss: 0.1502 - val_accuracy: 1.0000 - val_loss: 0.0184\n",
            "Epoch 31/50\n",
            "\u001b[1m3/3\u001b[0m \u001b[32m━━━━━━━━━━━━━━━━━━━━\u001b[0m\u001b[37m\u001b[0m \u001b[1m0s\u001b[0m 22ms/step - accuracy: 0.9578 - loss: 0.1384 - val_accuracy: 1.0000 - val_loss: 0.0162\n",
            "Epoch 32/50\n",
            "\u001b[1m3/3\u001b[0m \u001b[32m━━━━━━━━━━━━━━━━━━━━\u001b[0m\u001b[37m\u001b[0m \u001b[1m0s\u001b[0m 21ms/step - accuracy: 0.9539 - loss: 0.1410 - val_accuracy: 1.0000 - val_loss: 0.0144\n",
            "Epoch 33/50\n",
            "\u001b[1m3/3\u001b[0m \u001b[32m━━━━━━━━━━━━━━━━━━━━\u001b[0m\u001b[37m\u001b[0m \u001b[1m0s\u001b[0m 17ms/step - accuracy: 0.9559 - loss: 0.1375 - val_accuracy: 1.0000 - val_loss: 0.0129\n",
            "Epoch 34/50\n",
            "\u001b[1m3/3\u001b[0m \u001b[32m━━━━━━━━━━━━━━━━━━━━\u001b[0m\u001b[37m\u001b[0m \u001b[1m0s\u001b[0m 69ms/step - accuracy: 0.9656 - loss: 0.1001 - val_accuracy: 1.0000 - val_loss: 0.0117\n",
            "Epoch 35/50\n",
            "\u001b[1m3/3\u001b[0m \u001b[32m━━━━━━━━━━━━━━━━━━━━\u001b[0m\u001b[37m\u001b[0m \u001b[1m0s\u001b[0m 52ms/step - accuracy: 0.9695 - loss: 0.0952 - val_accuracy: 1.0000 - val_loss: 0.0107\n",
            "Epoch 36/50\n",
            "\u001b[1m3/3\u001b[0m \u001b[32m━━━━━━━━━━━━━━━━━━━━\u001b[0m\u001b[37m\u001b[0m \u001b[1m0s\u001b[0m 18ms/step - accuracy: 0.9578 - loss: 0.1295 - val_accuracy: 1.0000 - val_loss: 0.0098\n",
            "Epoch 37/50\n",
            "\u001b[1m3/3\u001b[0m \u001b[32m━━━━━━━━━━━━━━━━━━━━\u001b[0m\u001b[37m\u001b[0m \u001b[1m0s\u001b[0m 18ms/step - accuracy: 0.9637 - loss: 0.1009 - val_accuracy: 1.0000 - val_loss: 0.0091\n",
            "Epoch 38/50\n",
            "\u001b[1m3/3\u001b[0m \u001b[32m━━━━━━━━━━━━━━━━━━━━\u001b[0m\u001b[37m\u001b[0m \u001b[1m0s\u001b[0m 20ms/step - accuracy: 0.9598 - loss: 0.1077 - val_accuracy: 1.0000 - val_loss: 0.0084\n",
            "Epoch 39/50\n",
            "\u001b[1m3/3\u001b[0m \u001b[32m━━━━━━━━━━━━━━━━━━━━\u001b[0m\u001b[37m\u001b[0m \u001b[1m0s\u001b[0m 19ms/step - accuracy: 0.9559 - loss: 0.1027 - val_accuracy: 1.0000 - val_loss: 0.0078\n",
            "Epoch 40/50\n",
            "\u001b[1m3/3\u001b[0m \u001b[32m━━━━━━━━━━━━━━━━━━━━\u001b[0m\u001b[37m\u001b[0m \u001b[1m0s\u001b[0m 24ms/step - accuracy: 0.9559 - loss: 0.1080 - val_accuracy: 1.0000 - val_loss: 0.0074\n",
            "Epoch 41/50\n",
            "\u001b[1m3/3\u001b[0m \u001b[32m━━━━━━━━━━━━━━━━━━━━\u001b[0m\u001b[37m\u001b[0m \u001b[1m0s\u001b[0m 19ms/step - accuracy: 0.9656 - loss: 0.0861 - val_accuracy: 1.0000 - val_loss: 0.0069\n",
            "Epoch 42/50\n",
            "\u001b[1m3/3\u001b[0m \u001b[32m━━━━━━━━━━━━━━━━━━━━\u001b[0m\u001b[37m\u001b[0m \u001b[1m0s\u001b[0m 18ms/step - accuracy: 0.9816 - loss: 0.0747 - val_accuracy: 1.0000 - val_loss: 0.0065\n",
            "Epoch 43/50\n",
            "\u001b[1m3/3\u001b[0m \u001b[32m━━━━━━━━━━━━━━━━━━━━\u001b[0m\u001b[37m\u001b[0m \u001b[1m0s\u001b[0m 18ms/step - accuracy: 0.9875 - loss: 0.0683 - val_accuracy: 1.0000 - val_loss: 0.0061\n",
            "Epoch 44/50\n",
            "\u001b[1m3/3\u001b[0m \u001b[32m━━━━━━━━━━━━━━━━━━━━\u001b[0m\u001b[37m\u001b[0m \u001b[1m0s\u001b[0m 18ms/step - accuracy: 0.9828 - loss: 0.0666 - val_accuracy: 1.0000 - val_loss: 0.0058\n",
            "Epoch 45/50\n",
            "\u001b[1m3/3\u001b[0m \u001b[32m━━━━━━━━━━━━━━━━━━━━\u001b[0m\u001b[37m\u001b[0m \u001b[1m0s\u001b[0m 18ms/step - accuracy: 0.9809 - loss: 0.0760 - val_accuracy: 1.0000 - val_loss: 0.0055\n",
            "Epoch 46/50\n",
            "\u001b[1m3/3\u001b[0m \u001b[32m━━━━━━━━━━━━━━━━━━━━\u001b[0m\u001b[37m\u001b[0m \u001b[1m0s\u001b[0m 28ms/step - accuracy: 0.9828 - loss: 0.0945 - val_accuracy: 1.0000 - val_loss: 0.0051\n",
            "Epoch 47/50\n",
            "\u001b[1m3/3\u001b[0m \u001b[32m━━━━━━━━━━━━━━━━━━━━\u001b[0m\u001b[37m\u001b[0m \u001b[1m0s\u001b[0m 19ms/step - accuracy: 0.9828 - loss: 0.0874 - val_accuracy: 1.0000 - val_loss: 0.0048\n",
            "Epoch 48/50\n",
            "\u001b[1m3/3\u001b[0m \u001b[32m━━━━━━━━━━━━━━━━━━━━\u001b[0m\u001b[37m\u001b[0m \u001b[1m0s\u001b[0m 17ms/step - accuracy: 0.9770 - loss: 0.0909 - val_accuracy: 1.0000 - val_loss: 0.0046\n",
            "Epoch 49/50\n",
            "\u001b[1m3/3\u001b[0m \u001b[32m━━━━━━━━━━━━━━━━━━━━\u001b[0m\u001b[37m\u001b[0m \u001b[1m0s\u001b[0m 18ms/step - accuracy: 0.9809 - loss: 0.0750 - val_accuracy: 1.0000 - val_loss: 0.0043\n",
            "Epoch 50/50\n",
            "\u001b[1m3/3\u001b[0m \u001b[32m━━━━━━━━━━━━━━━━━━━━\u001b[0m\u001b[37m\u001b[0m \u001b[1m0s\u001b[0m 22ms/step - accuracy: 0.9688 - loss: 0.0769 - val_accuracy: 1.0000 - val_loss: 0.0041\n"
          ]
        }
      ]
    },
    {
      "cell_type": "code",
      "source": [
        "# konversi sparse matrix ke dense matrix\n",
        "X_train_c_dense = X_train_c.toarray()\n",
        "X_test_c_dense = X_test_c.toarray()\n",
        "\n",
        "# dapatkan jumlah fitur\n",
        "input_dim2 = X_train_c_dense.shape[1]\n",
        "\n",
        "# bangun model 2\n",
        "model2 = Sequential()\n",
        "model2.add(Dense(128, input_shape=(input_dim2,), activation='relu'))\n",
        "model2.add(Dropout(0.5))\n",
        "model2.add(Dense(64, activation='relu'))\n",
        "model2.add(Dense(len(le_output.classes_), activation='softmax'))\n",
        "\n",
        "# mengkompilasi model 2\n",
        "model2.compile(optimizer='adam',\n",
        "              loss='sparse_categorical_crossentropy',\n",
        "              metrics=['accuracy'])\n",
        "\n",
        "# menampilkan ringkasan model 2\n",
        "model2.summary()"
      ],
      "metadata": {
        "id": "QIZp9wrcKiZe",
        "outputId": "ef717a12-d2dd-424d-e362-05a1bf17db85",
        "colab": {
          "base_uri": "https://localhost:8080/",
          "height": 312
        }
      },
      "execution_count": 37,
      "outputs": [
        {
          "output_type": "stream",
          "name": "stderr",
          "text": [
            "/usr/local/lib/python3.10/dist-packages/keras/src/layers/core/dense.py:87: UserWarning: Do not pass an `input_shape`/`input_dim` argument to a layer. When using Sequential models, prefer using an `Input(shape)` object as the first layer in the model instead.\n",
            "  super().__init__(activity_regularizer=activity_regularizer, **kwargs)\n"
          ]
        },
        {
          "output_type": "display_data",
          "data": {
            "text/plain": [
              "\u001b[1mModel: \"sequential_4\"\u001b[0m\n"
            ],
            "text/html": [
              "<pre style=\"white-space:pre;overflow-x:auto;line-height:normal;font-family:Menlo,'DejaVu Sans Mono',consolas,'Courier New',monospace\"><span style=\"font-weight: bold\">Model: \"sequential_4\"</span>\n",
              "</pre>\n"
            ]
          },
          "metadata": {}
        },
        {
          "output_type": "display_data",
          "data": {
            "text/plain": [
              "┏━━━━━━━━━━━━━━━━━━━━━━━━━━━━━━━━━━━━━━┳━━━━━━━━━━━━━━━━━━━━━━━━━━━━━┳━━━━━━━━━━━━━━━━━┓\n",
              "┃\u001b[1m \u001b[0m\u001b[1mLayer (type)                        \u001b[0m\u001b[1m \u001b[0m┃\u001b[1m \u001b[0m\u001b[1mOutput Shape               \u001b[0m\u001b[1m \u001b[0m┃\u001b[1m \u001b[0m\u001b[1m        Param #\u001b[0m\u001b[1m \u001b[0m┃\n",
              "┡━━━━━━━━━━━━━━━━━━━━━━━━━━━━━━━━━━━━━━╇━━━━━━━━━━━━━━━━━━━━━━━━━━━━━╇━━━━━━━━━━━━━━━━━┩\n",
              "│ dense_12 (\u001b[38;5;33mDense\u001b[0m)                     │ (\u001b[38;5;45mNone\u001b[0m, \u001b[38;5;34m128\u001b[0m)                 │           \u001b[38;5;34m9,728\u001b[0m │\n",
              "├──────────────────────────────────────┼─────────────────────────────┼─────────────────┤\n",
              "│ dropout_4 (\u001b[38;5;33mDropout\u001b[0m)                  │ (\u001b[38;5;45mNone\u001b[0m, \u001b[38;5;34m128\u001b[0m)                 │               \u001b[38;5;34m0\u001b[0m │\n",
              "├──────────────────────────────────────┼─────────────────────────────┼─────────────────┤\n",
              "│ dense_13 (\u001b[38;5;33mDense\u001b[0m)                     │ (\u001b[38;5;45mNone\u001b[0m, \u001b[38;5;34m64\u001b[0m)                  │           \u001b[38;5;34m8,256\u001b[0m │\n",
              "├──────────────────────────────────────┼─────────────────────────────┼─────────────────┤\n",
              "│ dense_14 (\u001b[38;5;33mDense\u001b[0m)                     │ (\u001b[38;5;45mNone\u001b[0m, \u001b[38;5;34m39\u001b[0m)                  │           \u001b[38;5;34m2,535\u001b[0m │\n",
              "└──────────────────────────────────────┴─────────────────────────────┴─────────────────┘\n"
            ],
            "text/html": [
              "<pre style=\"white-space:pre;overflow-x:auto;line-height:normal;font-family:Menlo,'DejaVu Sans Mono',consolas,'Courier New',monospace\">┏━━━━━━━━━━━━━━━━━━━━━━━━━━━━━━━━━━━━━━┳━━━━━━━━━━━━━━━━━━━━━━━━━━━━━┳━━━━━━━━━━━━━━━━━┓\n",
              "┃<span style=\"font-weight: bold\"> Layer (type)                         </span>┃<span style=\"font-weight: bold\"> Output Shape                </span>┃<span style=\"font-weight: bold\">         Param # </span>┃\n",
              "┡━━━━━━━━━━━━━━━━━━━━━━━━━━━━━━━━━━━━━━╇━━━━━━━━━━━━━━━━━━━━━━━━━━━━━╇━━━━━━━━━━━━━━━━━┩\n",
              "│ dense_12 (<span style=\"color: #0087ff; text-decoration-color: #0087ff\">Dense</span>)                     │ (<span style=\"color: #00d7ff; text-decoration-color: #00d7ff\">None</span>, <span style=\"color: #00af00; text-decoration-color: #00af00\">128</span>)                 │           <span style=\"color: #00af00; text-decoration-color: #00af00\">9,728</span> │\n",
              "├──────────────────────────────────────┼─────────────────────────────┼─────────────────┤\n",
              "│ dropout_4 (<span style=\"color: #0087ff; text-decoration-color: #0087ff\">Dropout</span>)                  │ (<span style=\"color: #00d7ff; text-decoration-color: #00d7ff\">None</span>, <span style=\"color: #00af00; text-decoration-color: #00af00\">128</span>)                 │               <span style=\"color: #00af00; text-decoration-color: #00af00\">0</span> │\n",
              "├──────────────────────────────────────┼─────────────────────────────┼─────────────────┤\n",
              "│ dense_13 (<span style=\"color: #0087ff; text-decoration-color: #0087ff\">Dense</span>)                     │ (<span style=\"color: #00d7ff; text-decoration-color: #00d7ff\">None</span>, <span style=\"color: #00af00; text-decoration-color: #00af00\">64</span>)                  │           <span style=\"color: #00af00; text-decoration-color: #00af00\">8,256</span> │\n",
              "├──────────────────────────────────────┼─────────────────────────────┼─────────────────┤\n",
              "│ dense_14 (<span style=\"color: #0087ff; text-decoration-color: #0087ff\">Dense</span>)                     │ (<span style=\"color: #00d7ff; text-decoration-color: #00d7ff\">None</span>, <span style=\"color: #00af00; text-decoration-color: #00af00\">39</span>)                  │           <span style=\"color: #00af00; text-decoration-color: #00af00\">2,535</span> │\n",
              "└──────────────────────────────────────┴─────────────────────────────┴─────────────────┘\n",
              "</pre>\n"
            ]
          },
          "metadata": {}
        },
        {
          "output_type": "display_data",
          "data": {
            "text/plain": [
              "\u001b[1m Total params: \u001b[0m\u001b[38;5;34m20,519\u001b[0m (80.15 KB)\n"
            ],
            "text/html": [
              "<pre style=\"white-space:pre;overflow-x:auto;line-height:normal;font-family:Menlo,'DejaVu Sans Mono',consolas,'Courier New',monospace\"><span style=\"font-weight: bold\"> Total params: </span><span style=\"color: #00af00; text-decoration-color: #00af00\">20,519</span> (80.15 KB)\n",
              "</pre>\n"
            ]
          },
          "metadata": {}
        },
        {
          "output_type": "display_data",
          "data": {
            "text/plain": [
              "\u001b[1m Trainable params: \u001b[0m\u001b[38;5;34m20,519\u001b[0m (80.15 KB)\n"
            ],
            "text/html": [
              "<pre style=\"white-space:pre;overflow-x:auto;line-height:normal;font-family:Menlo,'DejaVu Sans Mono',consolas,'Courier New',monospace\"><span style=\"font-weight: bold\"> Trainable params: </span><span style=\"color: #00af00; text-decoration-color: #00af00\">20,519</span> (80.15 KB)\n",
              "</pre>\n"
            ]
          },
          "metadata": {}
        },
        {
          "output_type": "display_data",
          "data": {
            "text/plain": [
              "\u001b[1m Non-trainable params: \u001b[0m\u001b[38;5;34m0\u001b[0m (0.00 B)\n"
            ],
            "text/html": [
              "<pre style=\"white-space:pre;overflow-x:auto;line-height:normal;font-family:Menlo,'DejaVu Sans Mono',consolas,'Courier New',monospace\"><span style=\"font-weight: bold\"> Non-trainable params: </span><span style=\"color: #00af00; text-decoration-color: #00af00\">0</span> (0.00 B)\n",
              "</pre>\n"
            ]
          },
          "metadata": {}
        }
      ]
    },
    {
      "cell_type": "code",
      "source": [
        "# latih model 2 untuk conversation\n",
        "history2 = model2.fit(X_train_c_dense, y_train_c,\n",
        "                    epochs=epochs,\n",
        "                    batch_size=batch_size,\n",
        "                    validation_data=(X_test_c_dense, y_test_c))"
      ],
      "metadata": {
        "id": "AMPgWUiLKxBC",
        "outputId": "0f87e038-ec20-448e-88af-383f0de6cae0",
        "colab": {
          "base_uri": "https://localhost:8080/"
        }
      },
      "execution_count": 38,
      "outputs": [
        {
          "output_type": "stream",
          "name": "stdout",
          "text": [
            "Epoch 1/50\n",
            "\u001b[1m2/2\u001b[0m \u001b[32m━━━━━━━━━━━━━━━━━━━━\u001b[0m\u001b[37m\u001b[0m \u001b[1m4s\u001b[0m 350ms/step - accuracy: 0.0000e+00 - loss: 3.6777 - val_accuracy: 0.0500 - val_loss: 3.6437\n",
            "Epoch 2/50\n",
            "\u001b[1m2/2\u001b[0m \u001b[32m━━━━━━━━━━━━━━━━━━━━\u001b[0m\u001b[37m\u001b[0m \u001b[1m0s\u001b[0m 38ms/step - accuracy: 0.0000e+00 - loss: 3.6582 - val_accuracy: 0.0500 - val_loss: 3.6281\n",
            "Epoch 3/50\n",
            "\u001b[1m2/2\u001b[0m \u001b[32m━━━━━━━━━━━━━━━━━━━━\u001b[0m\u001b[37m\u001b[0m \u001b[1m0s\u001b[0m 32ms/step - accuracy: 0.0573 - loss: 3.6304 - val_accuracy: 0.0500 - val_loss: 3.6116\n",
            "Epoch 4/50\n",
            "\u001b[1m2/2\u001b[0m \u001b[32m━━━━━━━━━━━━━━━━━━━━\u001b[0m\u001b[37m\u001b[0m \u001b[1m0s\u001b[0m 33ms/step - accuracy: 0.0354 - loss: 3.6087 - val_accuracy: 0.0500 - val_loss: 3.5950\n",
            "Epoch 5/50\n",
            "\u001b[1m2/2\u001b[0m \u001b[32m━━━━━━━━━━━━━━━━━━━━\u001b[0m\u001b[37m\u001b[0m \u001b[1m0s\u001b[0m 31ms/step - accuracy: 0.1198 - loss: 3.5867 - val_accuracy: 0.1500 - val_loss: 3.5788\n",
            "Epoch 6/50\n",
            "\u001b[1m2/2\u001b[0m \u001b[32m━━━━━━━━━━━━━━━━━━━━\u001b[0m\u001b[37m\u001b[0m \u001b[1m0s\u001b[0m 33ms/step - accuracy: 0.1469 - loss: 3.5739 - val_accuracy: 0.2000 - val_loss: 3.5632\n",
            "Epoch 7/50\n",
            "\u001b[1m2/2\u001b[0m \u001b[32m━━━━━━━━━━━━━━━━━━━━\u001b[0m\u001b[37m\u001b[0m \u001b[1m0s\u001b[0m 34ms/step - accuracy: 0.1469 - loss: 3.5600 - val_accuracy: 0.2500 - val_loss: 3.5477\n",
            "Epoch 8/50\n",
            "\u001b[1m2/2\u001b[0m \u001b[32m━━━━━━━━━━━━━━━━━━━━\u001b[0m\u001b[37m\u001b[0m \u001b[1m0s\u001b[0m 32ms/step - accuracy: 0.2229 - loss: 3.5222 - val_accuracy: 0.2500 - val_loss: 3.5318\n",
            "Epoch 9/50\n",
            "\u001b[1m2/2\u001b[0m \u001b[32m━━━━━━━━━━━━━━━━━━━━\u001b[0m\u001b[37m\u001b[0m \u001b[1m0s\u001b[0m 65ms/step - accuracy: 0.2906 - loss: 3.4984 - val_accuracy: 0.2500 - val_loss: 3.5151\n",
            "Epoch 10/50\n",
            "\u001b[1m2/2\u001b[0m \u001b[32m━━━━━━━━━━━━━━━━━━━━\u001b[0m\u001b[37m\u001b[0m \u001b[1m0s\u001b[0m 41ms/step - accuracy: 0.3344 - loss: 3.4882 - val_accuracy: 0.4500 - val_loss: 3.4979\n",
            "Epoch 11/50\n",
            "\u001b[1m2/2\u001b[0m \u001b[32m━━━━━━━━━━━━━━━━━━━━\u001b[0m\u001b[37m\u001b[0m \u001b[1m0s\u001b[0m 35ms/step - accuracy: 0.4896 - loss: 3.4712 - val_accuracy: 0.4500 - val_loss: 3.4801\n",
            "Epoch 12/50\n",
            "\u001b[1m2/2\u001b[0m \u001b[32m━━━━━━━━━━━━━━━━━━━━\u001b[0m\u001b[37m\u001b[0m \u001b[1m0s\u001b[0m 32ms/step - accuracy: 0.4948 - loss: 3.4322 - val_accuracy: 0.7000 - val_loss: 3.4616\n",
            "Epoch 13/50\n",
            "\u001b[1m2/2\u001b[0m \u001b[32m━━━━━━━━━━━━━━━━━━━━\u001b[0m\u001b[37m\u001b[0m \u001b[1m0s\u001b[0m 31ms/step - accuracy: 0.4729 - loss: 3.4114 - val_accuracy: 0.7000 - val_loss: 3.4416\n",
            "Epoch 14/50\n",
            "\u001b[1m2/2\u001b[0m \u001b[32m━━━━━━━━━━━━━━━━━━━━\u001b[0m\u001b[37m\u001b[0m \u001b[1m0s\u001b[0m 50ms/step - accuracy: 0.5271 - loss: 3.3768 - val_accuracy: 0.7000 - val_loss: 3.4194\n",
            "Epoch 15/50\n",
            "\u001b[1m2/2\u001b[0m \u001b[32m━━━━━━━━━━━━━━━━━━━━\u001b[0m\u001b[37m\u001b[0m \u001b[1m0s\u001b[0m 65ms/step - accuracy: 0.5375 - loss: 3.3514 - val_accuracy: 0.7000 - val_loss: 3.3947\n",
            "Epoch 16/50\n",
            "\u001b[1m2/2\u001b[0m \u001b[32m━━━━━━━━━━━━━━━━━━━━\u001b[0m\u001b[37m\u001b[0m \u001b[1m0s\u001b[0m 64ms/step - accuracy: 0.5458 - loss: 3.3029 - val_accuracy: 0.7000 - val_loss: 3.3689\n",
            "Epoch 17/50\n",
            "\u001b[1m2/2\u001b[0m \u001b[32m━━━━━━━━━━━━━━━━━━━━\u001b[0m\u001b[37m\u001b[0m \u001b[1m0s\u001b[0m 49ms/step - accuracy: 0.5490 - loss: 3.2977 - val_accuracy: 0.7000 - val_loss: 3.3418\n",
            "Epoch 18/50\n",
            "\u001b[1m2/2\u001b[0m \u001b[32m━━━━━━━━━━━━━━━━━━━━\u001b[0m\u001b[37m\u001b[0m \u001b[1m0s\u001b[0m 60ms/step - accuracy: 0.5760 - loss: 3.2224 - val_accuracy: 0.7000 - val_loss: 3.3124\n",
            "Epoch 19/50\n",
            "\u001b[1m2/2\u001b[0m \u001b[32m━━━━━━━━━━━━━━━━━━━━\u001b[0m\u001b[37m\u001b[0m \u001b[1m0s\u001b[0m 102ms/step - accuracy: 0.5656 - loss: 3.2424 - val_accuracy: 0.6500 - val_loss: 3.2828\n",
            "Epoch 20/50\n",
            "\u001b[1m2/2\u001b[0m \u001b[32m━━━━━━━━━━━━━━━━━━━━\u001b[0m\u001b[37m\u001b[0m \u001b[1m0s\u001b[0m 67ms/step - accuracy: 0.6000 - loss: 3.1823 - val_accuracy: 0.6500 - val_loss: 3.2529\n",
            "Epoch 21/50\n",
            "\u001b[1m2/2\u001b[0m \u001b[32m━━━━━━━━━━━━━━━━━━━━\u001b[0m\u001b[37m\u001b[0m \u001b[1m0s\u001b[0m 68ms/step - accuracy: 0.6167 - loss: 3.1372 - val_accuracy: 0.6500 - val_loss: 3.2214\n",
            "Epoch 22/50\n",
            "\u001b[1m2/2\u001b[0m \u001b[32m━━━━━━━━━━━━━━━━━━━━\u001b[0m\u001b[37m\u001b[0m \u001b[1m0s\u001b[0m 65ms/step - accuracy: 0.6312 - loss: 3.0636 - val_accuracy: 0.7000 - val_loss: 3.1882\n",
            "Epoch 23/50\n",
            "\u001b[1m2/2\u001b[0m \u001b[32m━━━━━━━━━━━━━━━━━━━━\u001b[0m\u001b[37m\u001b[0m \u001b[1m0s\u001b[0m 63ms/step - accuracy: 0.5844 - loss: 3.0220 - val_accuracy: 0.7000 - val_loss: 3.1542\n",
            "Epoch 24/50\n",
            "\u001b[1m2/2\u001b[0m \u001b[32m━━━━━━━━━━━━━━━━━━━━\u001b[0m\u001b[37m\u001b[0m \u001b[1m0s\u001b[0m 65ms/step - accuracy: 0.5792 - loss: 3.0013 - val_accuracy: 0.7000 - val_loss: 3.1199\n",
            "Epoch 25/50\n",
            "\u001b[1m2/2\u001b[0m \u001b[32m━━━━━━━━━━━━━━━━━━━━\u001b[0m\u001b[37m\u001b[0m \u001b[1m0s\u001b[0m 92ms/step - accuracy: 0.6333 - loss: 2.9487 - val_accuracy: 0.6000 - val_loss: 3.0845\n",
            "Epoch 26/50\n",
            "\u001b[1m2/2\u001b[0m \u001b[32m━━━━━━━━━━━━━━━━━━━━\u001b[0m\u001b[37m\u001b[0m \u001b[1m0s\u001b[0m 70ms/step - accuracy: 0.6167 - loss: 2.9147 - val_accuracy: 0.5500 - val_loss: 3.0479\n",
            "Epoch 27/50\n",
            "\u001b[1m2/2\u001b[0m \u001b[32m━━━━━━━━━━━━━━━━━━━━\u001b[0m\u001b[37m\u001b[0m \u001b[1m0s\u001b[0m 66ms/step - accuracy: 0.5625 - loss: 2.8475 - val_accuracy: 0.5500 - val_loss: 3.0108\n",
            "Epoch 28/50\n",
            "\u001b[1m2/2\u001b[0m \u001b[32m━━━━━━━━━━━━━━━━━━━━\u001b[0m\u001b[37m\u001b[0m \u001b[1m0s\u001b[0m 63ms/step - accuracy: 0.6115 - loss: 2.7966 - val_accuracy: 0.5500 - val_loss: 2.9737\n",
            "Epoch 29/50\n",
            "\u001b[1m2/2\u001b[0m \u001b[32m━━━━━━━━━━━━━━━━━━━━\u001b[0m\u001b[37m\u001b[0m \u001b[1m0s\u001b[0m 64ms/step - accuracy: 0.5760 - loss: 2.6959 - val_accuracy: 0.5500 - val_loss: 2.9344\n",
            "Epoch 30/50\n",
            "\u001b[1m2/2\u001b[0m \u001b[32m━━━━━━━━━━━━━━━━━━━━\u001b[0m\u001b[37m\u001b[0m \u001b[1m0s\u001b[0m 65ms/step - accuracy: 0.5760 - loss: 2.6344 - val_accuracy: 0.5500 - val_loss: 2.8946\n",
            "Epoch 31/50\n",
            "\u001b[1m2/2\u001b[0m \u001b[32m━━━━━━━━━━━━━━━━━━━━\u001b[0m\u001b[37m\u001b[0m \u001b[1m0s\u001b[0m 50ms/step - accuracy: 0.6135 - loss: 2.5679 - val_accuracy: 0.5500 - val_loss: 2.8553\n",
            "Epoch 32/50\n",
            "\u001b[1m2/2\u001b[0m \u001b[32m━━━━━━━━━━━━━━━━━━━━\u001b[0m\u001b[37m\u001b[0m \u001b[1m0s\u001b[0m 49ms/step - accuracy: 0.5813 - loss: 2.5487 - val_accuracy: 0.6500 - val_loss: 2.8185\n",
            "Epoch 33/50\n",
            "\u001b[1m2/2\u001b[0m \u001b[32m━━━━━━━━━━━━━━━━━━━━\u001b[0m\u001b[37m\u001b[0m \u001b[1m0s\u001b[0m 64ms/step - accuracy: 0.5771 - loss: 2.5125 - val_accuracy: 0.6500 - val_loss: 2.7791\n",
            "Epoch 34/50\n",
            "\u001b[1m2/2\u001b[0m \u001b[32m━━━━━━━━━━━━━━━━━━━━\u001b[0m\u001b[37m\u001b[0m \u001b[1m0s\u001b[0m 67ms/step - accuracy: 0.5792 - loss: 2.4582 - val_accuracy: 0.6500 - val_loss: 2.7384\n",
            "Epoch 35/50\n",
            "\u001b[1m2/2\u001b[0m \u001b[32m━━━━━━━━━━━━━━━━━━━━\u001b[0m\u001b[37m\u001b[0m \u001b[1m0s\u001b[0m 65ms/step - accuracy: 0.6521 - loss: 2.3447 - val_accuracy: 0.6500 - val_loss: 2.6971\n",
            "Epoch 36/50\n",
            "\u001b[1m2/2\u001b[0m \u001b[32m━━━━━━━━━━━━━━━━━━━━\u001b[0m\u001b[37m\u001b[0m \u001b[1m0s\u001b[0m 33ms/step - accuracy: 0.6229 - loss: 2.2919 - val_accuracy: 0.7000 - val_loss: 2.6534\n",
            "Epoch 37/50\n",
            "\u001b[1m2/2\u001b[0m \u001b[32m━━━━━━━━━━━━━━━━━━━━\u001b[0m\u001b[37m\u001b[0m \u001b[1m0s\u001b[0m 32ms/step - accuracy: 0.5865 - loss: 2.2582 - val_accuracy: 0.7000 - val_loss: 2.6105\n",
            "Epoch 38/50\n",
            "\u001b[1m2/2\u001b[0m \u001b[32m━━━━━━━━━━━━━━━━━━━━\u001b[0m\u001b[37m\u001b[0m \u001b[1m0s\u001b[0m 33ms/step - accuracy: 0.5646 - loss: 2.0943 - val_accuracy: 0.7000 - val_loss: 2.5668\n",
            "Epoch 39/50\n",
            "\u001b[1m2/2\u001b[0m \u001b[32m━━━━━━━━━━━━━━━━━━━━\u001b[0m\u001b[37m\u001b[0m \u001b[1m0s\u001b[0m 32ms/step - accuracy: 0.6542 - loss: 2.0670 - val_accuracy: 0.7000 - val_loss: 2.5236\n",
            "Epoch 40/50\n",
            "\u001b[1m2/2\u001b[0m \u001b[32m━━━━━━━━━━━━━━━━━━━━\u001b[0m\u001b[37m\u001b[0m \u001b[1m0s\u001b[0m 31ms/step - accuracy: 0.6542 - loss: 2.0435 - val_accuracy: 0.7000 - val_loss: 2.4819\n",
            "Epoch 41/50\n",
            "\u001b[1m2/2\u001b[0m \u001b[32m━━━━━━━━━━━━━━━━━━━━\u001b[0m\u001b[37m\u001b[0m \u001b[1m0s\u001b[0m 33ms/step - accuracy: 0.6531 - loss: 2.0089 - val_accuracy: 0.7000 - val_loss: 2.4401\n",
            "Epoch 42/50\n",
            "\u001b[1m2/2\u001b[0m \u001b[32m━━━━━━━━━━━━━━━━━━━━\u001b[0m\u001b[37m\u001b[0m \u001b[1m0s\u001b[0m 39ms/step - accuracy: 0.6875 - loss: 2.0067 - val_accuracy: 0.7000 - val_loss: 2.3963\n",
            "Epoch 43/50\n",
            "\u001b[1m2/2\u001b[0m \u001b[32m━━━━━━━━━━━━━━━━━━━━\u001b[0m\u001b[37m\u001b[0m \u001b[1m0s\u001b[0m 41ms/step - accuracy: 0.6823 - loss: 1.9201 - val_accuracy: 0.7000 - val_loss: 2.3524\n",
            "Epoch 44/50\n",
            "\u001b[1m2/2\u001b[0m \u001b[32m━━━━━━━━━━━━━━━━━━━━\u001b[0m\u001b[37m\u001b[0m \u001b[1m0s\u001b[0m 39ms/step - accuracy: 0.6823 - loss: 1.9072 - val_accuracy: 0.7000 - val_loss: 2.3132\n",
            "Epoch 45/50\n",
            "\u001b[1m2/2\u001b[0m \u001b[32m━━━━━━━━━━━━━━━━━━━━\u001b[0m\u001b[37m\u001b[0m \u001b[1m0s\u001b[0m 32ms/step - accuracy: 0.6687 - loss: 1.7545 - val_accuracy: 0.7000 - val_loss: 2.2750\n",
            "Epoch 46/50\n",
            "\u001b[1m2/2\u001b[0m \u001b[32m━━━━━━━━━━━━━━━━━━━━\u001b[0m\u001b[37m\u001b[0m \u001b[1m0s\u001b[0m 32ms/step - accuracy: 0.6906 - loss: 1.7778 - val_accuracy: 0.7000 - val_loss: 2.2342\n",
            "Epoch 47/50\n",
            "\u001b[1m2/2\u001b[0m \u001b[32m━━━━━━━━━━━━━━━━━━━━\u001b[0m\u001b[37m\u001b[0m \u001b[1m0s\u001b[0m 34ms/step - accuracy: 0.7250 - loss: 1.7656 - val_accuracy: 0.7000 - val_loss: 2.1943\n",
            "Epoch 48/50\n",
            "\u001b[1m2/2\u001b[0m \u001b[32m━━━━━━━━━━━━━━━━━━━━\u001b[0m\u001b[37m\u001b[0m \u001b[1m0s\u001b[0m 33ms/step - accuracy: 0.7010 - loss: 1.6683 - val_accuracy: 0.7000 - val_loss: 2.1575\n",
            "Epoch 49/50\n",
            "\u001b[1m2/2\u001b[0m \u001b[32m━━━━━━━━━━━━━━━━━━━━\u001b[0m\u001b[37m\u001b[0m \u001b[1m0s\u001b[0m 32ms/step - accuracy: 0.7250 - loss: 1.5347 - val_accuracy: 0.7000 - val_loss: 2.1209\n",
            "Epoch 50/50\n",
            "\u001b[1m2/2\u001b[0m \u001b[32m━━━━━━━━━━━━━━━━━━━━\u001b[0m\u001b[37m\u001b[0m \u001b[1m0s\u001b[0m 31ms/step - accuracy: 0.7333 - loss: 1.5858 - val_accuracy: 0.7000 - val_loss: 2.0886\n"
          ]
        }
      ]
    },
    {
      "cell_type": "code",
      "source": [
        "# evaluasi model 1\n",
        "loss, accuracy = model1.evaluate(X_test_d_dense, y_test_d)\n",
        "print(f'Akurasi model1: {accuracy * 100:.2f}%')"
      ],
      "metadata": {
        "id": "hGvz5T73MGgx",
        "outputId": "df9e67c8-b215-435a-b267-3bd627e41bff",
        "colab": {
          "base_uri": "https://localhost:8080/"
        }
      },
      "execution_count": 39,
      "outputs": [
        {
          "output_type": "stream",
          "name": "stdout",
          "text": [
            "\u001b[1m2/2\u001b[0m \u001b[32m━━━━━━━━━━━━━━━━━━━━\u001b[0m\u001b[37m\u001b[0m \u001b[1m0s\u001b[0m 8ms/step - accuracy: 1.0000 - loss: 0.0041 \n",
            "Akurasi model1: 100.00%\n"
          ]
        }
      ]
    },
    {
      "cell_type": "code",
      "source": [
        "# evaluasi model 2\n",
        "loss, accuracy = model2.evaluate(X_test_c_dense, y_test_c)\n",
        "print(f'Akurasi model2: {accuracy * 100:.2f}%')"
      ],
      "metadata": {
        "id": "IV8i0FUxMThh",
        "outputId": "b3085b39-d17f-4f67-8e89-7b591131eebb",
        "colab": {
          "base_uri": "https://localhost:8080/"
        }
      },
      "execution_count": 41,
      "outputs": [
        {
          "output_type": "stream",
          "name": "stdout",
          "text": [
            "\u001b[1m1/1\u001b[0m \u001b[32m━━━━━━━━━━━━━━━━━━━━\u001b[0m\u001b[37m\u001b[0m \u001b[1m0s\u001b[0m 27ms/step - accuracy: 0.7000 - loss: 2.0886\n",
            "Akurasi model2: 70.00%\n"
          ]
        }
      ]
    },
    {
      "cell_type": "code",
      "source": [
        "# membuat dictionary input-output\n",
        "conversation_dict = dict(zip(df_conversation['Cleaned_Input'], df_conversation['Output']))\n",
        "\n",
        "def get_general_response(user_input):\n",
        "    processed_input = clean_text(user_input)\n",
        "    processed_input = remove_stopwords(processed_input)\n",
        "    response = conversation_dict.get(processed_input, None)\n",
        "    return response"
      ],
      "metadata": {
        "id": "-Hld9yGiOVyt"
      },
      "execution_count": 44,
      "outputs": []
    },
    {
      "cell_type": "code",
      "source": [
        "# cek jenis Hewan dari Input\n",
        "def detect_animal_type(user_input):\n",
        "    animal_types = ['kucing', 'anjing']\n",
        "    for animal in animal_types:\n",
        "        if animal in user_input.lower():\n",
        "            return animal\n",
        "    return None"
      ],
      "metadata": {
        "id": "XPPMopV5PXVy"
      },
      "execution_count": 49,
      "outputs": []
    },
    {
      "cell_type": "code",
      "source": [
        "def ask_for_animal_type():\n",
        "    while True:\n",
        "        animal_type = input(\"Chatbot: Hewan apa yang Anda miliki? (kucing/anjing): \").lower()\n",
        "        if animal_type in ['kucing', 'anjing']:\n",
        "            return animal_type\n",
        "        else:\n",
        "            print(\"Chatbot: Maaf, saya hanya bisa memberikan saran untuk kucing atau anjing.\")\n",
        "            return None"
      ],
      "metadata": {
        "id": "n21IK4HwPgia"
      },
      "execution_count": 51,
      "outputs": []
    },
    {
      "cell_type": "code",
      "source": [
        "def predict_disease(symptom_text, animal_type):\n",
        "    if animal_type not in ['kucing', 'anjing']:\n",
        "        return None, None\n",
        "    # Filter dataset berdasarkan jenis hewan\n",
        "    df_animal = df_disease[df_disease['Nama Hewan'].str.lower() == animal_type]\n",
        "    if df_animal.empty:\n",
        "        return None, None\n",
        "    # Preprocessing input pengguna\n",
        "    processed_text = clean_text(symptom_text)\n",
        "    processed_text = remove_stopwords(processed_text)\n",
        "    vectorized_text = vectorizer.transform([processed_text]).toarray()\n",
        "    # Prediksi penyakit\n",
        "    prediction = model.predict(vectorized_text)\n",
        "    predicted_label = prediction.argmax(axis=-1)[0]\n",
        "    disease_name = le_disease.inverse_transform([predicted_label])[0]\n",
        "    # Pastikan penyakit tersebut ada dalam data hewan yang dipilih\n",
        "    if disease_name not in df_animal['Nama Penyakit'].values:\n",
        "        return None, None\n",
        "    return disease_name, df_animal"
      ],
      "metadata": {
        "id": "XA4wwUkbP9l-"
      },
      "execution_count": 56,
      "outputs": []
    },
    {
      "cell_type": "code",
      "source": [
        "def get_first_aid(disease_name, df_animal):\n",
        "    penanganan = df_animal[df_animal['Nama Penyakit'] == disease_name]['Penanganan Pertama'].iloc[0]\n",
        "    return penanganan"
      ],
      "metadata": {
        "id": "QcXs3vylPhvS"
      },
      "execution_count": 52,
      "outputs": []
    },
    {
      "cell_type": "code",
      "source": [
        "def is_symptom_input(user_input):\n",
        "    # Daftar gejala umum\n",
        "    symptoms_keywords = ['muntah', 'demam', 'batuk', 'diare', 'kejang', 'lemas', 'pilek', 'bersin', 'luka']\n",
        "    return any(keyword in user_input.lower() for keyword in symptoms_keywords)\n",
        "\n",
        "def chatbot_response(user_input):\n",
        "    if is_symptom_input(user_input):\n",
        "        # Gunakan model klasifikasi penyakit\n",
        "        animal_type = detect_animal_type(user_input)\n",
        "        if not animal_type:\n",
        "            animal_type = ask_for_animal_type()\n",
        "            if not animal_type:\n",
        "                return \"Maaf, saya hanya bisa memberikan saran untuk kucing atau anjing.\"\n",
        "        disease_name, df_animal = predict_disease(user_input, animal_type)\n",
        "        if not disease_name:\n",
        "            return f\"Maaf, saya tidak dapat menemukan penyakit yang sesuai untuk gejala tersebut pada {animal_type}.\"\n",
        "        first_aid = get_first_aid(disease_name, df_animal)\n",
        "        response = f\"Sepertinya {animal_type} Anda sakit {disease_name}. {first_aid}\"\n",
        "        return response\n",
        "    else:\n",
        "        # Gunakan model percakapan umum\n",
        "        response = get_general_response(user_input)\n",
        "        if response:\n",
        "            return response\n",
        "        else:\n",
        "            return \"Maaf, saya tidak mengerti. Bisa dijelaskan lebih lanjut?\""
      ],
      "metadata": {
        "id": "eOPX2imJMZJU"
      },
      "execution_count": 45,
      "outputs": []
    },
    {
      "cell_type": "code",
      "source": [
        "while True:\n",
        "    user_input = input(\"Anda: \")\n",
        "    if user_input.lower() in ['exit', 'quit', 'keluar']:\n",
        "        print(\"Chatbot: Terima kasih, semoga membantu!\")\n",
        "        break\n",
        "    response = chatbot_response(user_input)\n",
        "    print(\"Chatbot:\", response)"
      ],
      "metadata": {
        "id": "5ByMtEAcNjKA",
        "outputId": "6bb0d773-7a95-4bc1-837b-9d7213e161f8",
        "colab": {
          "base_uri": "https://localhost:8080/"
        }
      },
      "execution_count": null,
      "outputs": [
        {
          "output_type": "stream",
          "name": "stdout",
          "text": [
            "Anda: hewan saya sakit\n",
            "Chatbot: Maaf, saya tidak mengerti. Bisa dijelaskan lebih lanjut?\n",
            "Anda: peliharaan saya sakit\n",
            "Chatbot: Maaf, saya tidak mengerti. Bisa dijelaskan lebih lanjut?\n",
            "Anda: gajah saya mual\n",
            "Chatbot: Maaf, saya tidak mengerti. Bisa dijelaskan lebih lanjut?\n"
          ]
        }
      ]
    },
    {
      "cell_type": "code",
      "source": [],
      "metadata": {
        "id": "10JAHabONpVJ"
      },
      "execution_count": null,
      "outputs": []
    }
  ]
}