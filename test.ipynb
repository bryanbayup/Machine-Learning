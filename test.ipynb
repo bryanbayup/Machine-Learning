{
  "nbformat": 4,
  "nbformat_minor": 0,
  "metadata": {
    "colab": {
      "provenance": [],
      "gpuType": "T4",
      "authorship_tag": "ABX9TyPhCWCjyxCHVnvS/h6Nquw9",
      "include_colab_link": true
    },
    "kernelspec": {
      "name": "python3",
      "display_name": "Python 3"
    },
    "language_info": {
      "name": "python"
    },
    "accelerator": "GPU"
  },
  "cells": [
    {
      "cell_type": "markdown",
      "metadata": {
        "id": "view-in-github",
        "colab_type": "text"
      },
      "source": [
        "<a href=\"https://colab.research.google.com/github/bryanbayup/Machine-Learning/blob/main/test.ipynb\" target=\"_parent\"><img src=\"https://colab.research.google.com/assets/colab-badge.svg\" alt=\"Open In Colab\"/></a>"
      ]
    },
    {
      "cell_type": "code",
      "source": [
        "!pip install torch"
      ],
      "metadata": {
        "colab": {
          "base_uri": "https://localhost:8080/"
        },
        "id": "zjy8Um1n-v5G",
        "outputId": "6781b803-5697-4772-b473-7ac2b8c38484"
      },
      "execution_count": 4,
      "outputs": [
        {
          "output_type": "stream",
          "name": "stdout",
          "text": [
            "Requirement already satisfied: torch in /usr/local/lib/python3.10/dist-packages (2.5.1+cu121)\n",
            "Requirement already satisfied: filelock in /usr/local/lib/python3.10/dist-packages (from torch) (3.16.1)\n",
            "Requirement already satisfied: typing-extensions>=4.8.0 in /usr/local/lib/python3.10/dist-packages (from torch) (4.12.2)\n",
            "Requirement already satisfied: networkx in /usr/local/lib/python3.10/dist-packages (from torch) (3.4.2)\n",
            "Requirement already satisfied: jinja2 in /usr/local/lib/python3.10/dist-packages (from torch) (3.1.4)\n",
            "Requirement already satisfied: fsspec in /usr/local/lib/python3.10/dist-packages (from torch) (2024.10.0)\n",
            "Requirement already satisfied: sympy==1.13.1 in /usr/local/lib/python3.10/dist-packages (from torch) (1.13.1)\n",
            "Requirement already satisfied: mpmath<1.4,>=1.1.0 in /usr/local/lib/python3.10/dist-packages (from sympy==1.13.1->torch) (1.3.0)\n",
            "Requirement already satisfied: MarkupSafe>=2.0 in /usr/local/lib/python3.10/dist-packages (from jinja2->torch) (3.0.2)\n"
          ]
        }
      ]
    },
    {
      "cell_type": "code",
      "source": [
        "import os\n",
        "import json\n",
        "import numpy as np\n",
        "import tensorflow as tf\n",
        "from transformers import AutoTokenizer, TFGPT2LMHeadModel\n",
        "import tensorflow as tf\n",
        "\n",
        "# Parameter\n",
        "model_name = \"cahya/gpt2-small-indonesian-522M\"\n",
        "data_path = \"data2.json\"  # Sesuaikan dengan path dataset Anda\n",
        "max_len = 256\n",
        "batch_size = 2\n",
        "epochs = 1\n",
        "turns_context = 3  # berapa banyak turn sebelumnya dijadikan konteks\n",
        "\n",
        "# Load tokenizer\n",
        "tokenizer = AutoTokenizer.from_pretrained(model_name)\n",
        "if tokenizer.pad_token is None:\n",
        "    tokenizer.pad_token = tokenizer.eos_token\n",
        "if tokenizer.eos_token is None:\n",
        "    tokenizer.eos_token = tokenizer.pad_token\n",
        "\n",
        "# Load model GPT-2 ke TensorFlow\n",
        "model = TFGPT2LMHeadModel.from_pretrained(model_name, from_pt=True)\n",
        "\n",
        "# Load dataset (asumsi: data adalah list of conversations)\n",
        "with open(data_path, 'r', encoding='utf-8') as f:\n",
        "    conversations = json.load(f)\n",
        "\n",
        "# Fungsi untuk membuat contoh training dari dataset\n",
        "def build_examples(conversations, tokenizer, max_len=256, turns_context=3):\n",
        "    examples = []\n",
        "    # Format prompt: kita akan membentuk teks seperti ini:\n",
        "    # User: ...\n",
        "    # Bot: ...\n",
        "    # User: ...\n",
        "    # Bot:\n",
        "    # Lalu model diminta melanjutkan teks setelah \"Bot:\".\n",
        "    for conv in conversations:\n",
        "        turns = conv[\"turns\"]\n",
        "        dialog_history = []\n",
        "        for i, turn in enumerate(turns):\n",
        "            speaker = turn[\"speaker\"]\n",
        "            text = turn[\"utterance\"]\n",
        "            dialog_history.append(f\"{speaker.capitalize()}: {text}\")\n",
        "            # Setiap kali kita mendapatkan bot turn (selain yang pertama), kita buat satu contoh\n",
        "            if speaker == \"bot\" and i > 0:\n",
        "                # Ambil beberapa turn sebelumnya sebagai konteks\n",
        "                start_idx = max(0, i - turns_context*2)\n",
        "                context_lines = dialog_history[start_idx:i]  # semua turn sebelum bot turn ini\n",
        "                prompt = \"\\n\".join(context_lines) + \"\\nBot:\"\n",
        "                full_text = prompt + \" \" + text\n",
        "                # Tokenisasi\n",
        "                tokenized = tokenizer(\n",
        "                    full_text,\n",
        "                    truncation=True,\n",
        "                    max_length=max_len,\n",
        "                    return_tensors='np'\n",
        "                )\n",
        "                input_ids = tokenized[\"input_ids\"][0]\n",
        "                # labels = input_ids juga, causal LM akan shift internal\n",
        "                examples.append(input_ids)\n",
        "    return examples\n",
        "\n",
        "examples = build_examples(conversations, tokenizer, max_len=max_len, turns_context=turns_context)\n",
        "\n",
        "# Sekarang kita punya sekumpulan input_ids\n",
        "# Kita akan membuat tf.data.Dataset dari examples\n",
        "def gen():\n",
        "    for ex in examples:\n",
        "        yield {\"input_ids\": ex}\n",
        "\n",
        "# Kita butuh fungsi pading di level tf.data\n",
        "def encode_map_fn(features):\n",
        "    # features[\"input_ids\"] sudah tokenized, tinggal pad\n",
        "    input_ids = features[\"input_ids\"]\n",
        "    length = tf.size(input_ids)\n",
        "    # Kita pad hingga max_len\n",
        "    padded = tf.pad(input_ids, [[0, max_len - length]], constant_values=tokenizer.pad_token_id)\n",
        "    # labels = input_ids juga\n",
        "    return (padded, padded)\n",
        "\n",
        "dataset = tf.data.Dataset.from_generator(\n",
        "    gen,\n",
        "    output_signature={\n",
        "        \"input_ids\": tf.TensorSpec(shape=(None,), dtype=tf.int32)\n",
        "    }\n",
        ")\n",
        "dataset = dataset.map(encode_map_fn, num_parallel_calls=tf.data.AUTOTUNE)\n",
        "dataset = dataset.shuffle(1000).batch(batch_size, drop_remainder=True).prefetch(tf.data.AUTOTUNE)\n",
        "\n",
        "# Sekarang kita akan membuat custom training loop atau gunakan compile & fit dengan loss\n",
        "# TFGPT2LMHeadModel jika dipanggil dengan labels akan mengembalikan loss otomatis\n",
        "# Namun, untuk integrasi Keras, kita butuh sedikit kustomisasi\n",
        "\n",
        "class GPT2Trainer(tf.keras.Model):\n",
        "    def __init__(self, model):\n",
        "        super().__init__()\n",
        "        self.model = model\n",
        "\n",
        "    def train_step(self, data):\n",
        "        input_ids, labels = data\n",
        "        with tf.GradientTape() as tape:\n",
        "            outputs = self.model(input_ids, labels=labels, training=True)\n",
        "            loss = outputs.loss\n",
        "        grads = tape.gradient(loss, self.trainable_variables)\n",
        "        self.optimizer.apply_gradients(zip(grads, self.trainable_variables))\n",
        "        # Pass both labels and predictions (which are the same as labels in this case)\n",
        "        self.compiled_metrics.update_state(labels, labels)  # Changed line\n",
        "        return {\"loss\": loss}\n",
        "\n",
        "# Inisialisasi trainer model\n",
        "trainer_model = GPT2Trainer(model)\n",
        "trainer_model.compile(optimizer=tf.keras.optimizers.Adam(learning_rate=3e-5))\n",
        "\n",
        "# Fine-tuning\n",
        "trainer_model.fit(dataset, epochs=epochs)\n",
        "\n",
        "# Setelah training, kita bisa menggunakan model untuk generasi teks multi-turn\n",
        "def generate_response(history, max_length=50, temperature=0.8, top_p=0.9, top_k=50):\n",
        "    prompt = \"\\n\".join(history) + \"\\nBot:\"\n",
        "    input_ids = tokenizer.encode(prompt, return_tensors='tf')\n",
        "    output_ids = model.generate(\n",
        "        input_ids,\n",
        "        max_length=(tf.shape(input_ids)[1] + max_length),\n",
        "        pad_token_id=tokenizer.pad_token_id,\n",
        "        eos_token_id=tokenizer.eos_token_id,\n",
        "        do_sample=True,\n",
        "        top_k=top_k,\n",
        "        top_p=top_p,\n",
        "        temperature=temperature\n",
        "    )\n",
        "    generated = tokenizer.decode(output_ids[0], skip_special_tokens=True)\n",
        "    # Ambil teks setelah \"Bot:\"\n",
        "    if \"Bot:\" in generated:\n",
        "        response = generated.split(\"Bot:\", 1)[1].strip()\n",
        "    else:\n",
        "        response = generated\n",
        "    return response\n",
        "\n",
        "# Contoh inferensi\n",
        "test_history = [\n",
        "    \"User: Kucing saya demam.\",\n",
        "    \"Bot: Pastikan kucing tetap terhidrasi. Apakah ada gejala lain?\",\n",
        "    \"User: Ia tampak lesu.\"\n",
        "]\n",
        "bot_resp = generate_response(test_history)\n",
        "print(\"Bot:\", bot_resp)"
      ],
      "metadata": {
        "colab": {
          "base_uri": "https://localhost:8080/"
        },
        "id": "wUK5TPpX9g3T",
        "outputId": "89042ff8-7dc9-4333-f291-0e78278c0e90"
      },
      "execution_count": 2,
      "outputs": [
        {
          "output_type": "stream",
          "name": "stderr",
          "text": [
            "Some weights of the PyTorch model were not used when initializing the TF 2.0 model TFGPT2LMHeadModel: ['lm_head.weight', 'transformer.h.10.attn.masked_bias', 'transformer.h.6.attn.masked_bias', 'transformer.h.5.attn.masked_bias', 'transformer.h.8.attn.masked_bias', 'transformer.h.3.attn.masked_bias', 'transformer.h.9.attn.masked_bias', 'transformer.h.4.attn.masked_bias', 'transformer.h.0.attn.masked_bias', 'transformer.h.11.attn.masked_bias', 'transformer.h.1.attn.masked_bias', 'transformer.h.2.attn.masked_bias', 'transformer.h.7.attn.masked_bias']\n",
            "- This IS expected if you are initializing TFGPT2LMHeadModel from a PyTorch model trained on another task or with another architecture (e.g. initializing a TFBertForSequenceClassification model from a BertForPreTraining model).\n",
            "- This IS NOT expected if you are initializing TFGPT2LMHeadModel from a PyTorch model that you expect to be exactly identical (e.g. initializing a TFBertForSequenceClassification model from a BertForSequenceClassification model).\n",
            "All the weights of TFGPT2LMHeadModel were initialized from the PyTorch model.\n",
            "If your task is similar to the task the model of the checkpoint was trained on, you can already use TFGPT2LMHeadModel for predictions without further training.\n"
          ]
        },
        {
          "output_type": "stream",
          "name": "stdout",
          "text": [
            "74/74 [==============================] - 46s 200ms/step - loss: 0.7374\n",
            "Bot: Pastikan kucing tetap terhidrasi. Apakah ada gejala lain?\n",
            "User: Ia tampak lesu.\n",
            "Bot: Segera konsultasikan ke dokter hewan.\n",
            "User: Apakah ada gejala serius?\n",
            "Bot: Jika gejala sudah parah, segera bawa kucing Anda ke dokter hewan.\n"
          ]
        }
      ]
    },
    {
      "cell_type": "code",
      "source": [],
      "metadata": {
        "id": "84BtWCrO9hZ4"
      },
      "execution_count": null,
      "outputs": []
    }
  ]
}